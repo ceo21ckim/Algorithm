{
 "cells": [
  {
   "cell_type": "markdown",
   "metadata": {},
   "source": [
    "### 달리기 경주\n",
    "\n",
    "얀에서는 매년 달리기 경주가 열립니다. 해설진들은 선수들이 자기 바로 앞의 선수를 추월할 때 추월한 선수의 이름을 부릅니다. 예를 들어 1등부터 3등까지 \"mumu\", \"soe\", \"poe\" 선수들이 순서대로 달리고 있을 때, 해설진이 \"soe\"선수를 불렀다면 2등인 \"soe\" 선수가 1등인 \"mumu\" 선수를 추월했다는 것입니다. 즉 \"soe\" 선수가 1등, \"mumu\" 선수가 2등으로 바뀝니다.\n",
    "\n",
    "선수들의 이름이 1등부터 현재 등수 순서대로 담긴 문자열 배열 players와 해설진이 부른 이름을 담은 문자열 배열 callings가 매개변수로 주어질 때, 경주가 끝났을 때 선수들의 이름을 1등부터 등수 순서대로 배열에 담아 return 하는 solution 함수를 완성해주세요.\n",
    "\n",
    "\n",
    "제한사항\n",
    "- 5 ≤ players의 길이 ≤ 50,000\n",
    "    - players[i]는 i번째 선수의 이름을 의미합니다.\n",
    "    - players의 원소들은 알파벳 소문자로만 이루어져 있습니다.\n",
    "    - players에는 중복된 값이 들어가 있지 않습니다.\n",
    "    - 3 ≤ players[i]의 길이 ≤ 10\n",
    "- 2 ≤ callings의 길이 ≤ 1,000,000\n",
    "    - callings는 players의 원소들로만 이루어져 있습니다.\n",
    "    - 경주 진행중 1등인 선수의 이름은 불리지 않습니다."
   ]
  },
  {
   "cell_type": "code",
   "execution_count": null,
   "metadata": {},
   "outputs": [],
   "source": [
    "# 시간초과\n",
    "def solution(players, callings):\n",
    "\n",
    "    for calls in callings:\n",
    "        idx = players.index(calls)\n",
    "        values = players.pop(idx)\n",
    "        players.insert(idx-1, values)\n",
    "\n",
    "    return players"
   ]
  },
  {
   "cell_type": "code",
   "execution_count": 23,
   "metadata": {},
   "outputs": [],
   "source": [
    "coord[0][1] = 2"
   ]
  },
  {
   "cell_type": "code",
   "execution_count": 28,
   "metadata": {},
   "outputs": [],
   "source": [
    "a = [[1, 2, 3], [1, 2, 3], [1, 2, 3]]"
   ]
  },
  {
   "cell_type": "code",
   "execution_count": 18,
   "metadata": {},
   "outputs": [],
   "source": [
    "def solution(players, callings):\n",
    "    for calls in callings:\n",
    "        idx = players.index(calls)\n",
    "        players[idx-1], players[idx] = players[idx], players[idx-1]\n",
    "    return players "
   ]
  },
  {
   "cell_type": "code",
   "execution_count": null,
   "metadata": {},
   "outputs": [],
   "source": [
    "\n",
    "def solution(players, callings):\n",
    "    answers = dict({player: i for i, player in enumerate(players)})\n",
    "    for calls in callings:\n",
    "        idx = answers[calls]\n",
    "        answers[calls] -= 1\n",
    "        answers[players[idx-1]] += 1\n",
    "        players[idx-1], players[idx] = players[idx], players[idx-1]\n",
    "    return players \n",
    "    "
   ]
  },
  {
   "cell_type": "markdown",
   "metadata": {},
   "source": [
    "### 추억 점수\n",
    "사진들을 보며 추억에 젖어 있던 루는 사진별로 추억 점수를 매길려고 합니다. 사진 속에 나오는 인물의 그리움 점수를 모두 합산한 값이 해당 사진의 추억 점수가 됩니다. 예를 들어 사진 속 인물의 이름이 [\"may\", \"kein\", \"kain\"]이고 각 인물의 그리움 점수가 [5점, 10점, 1점]일 때 해당 사진의 추억 점수는 16(5 + 10 + 1)점이 됩니다. 다른 사진 속 인물의 이름이 [\"kali\", \"mari\", \"don\", \"tony\"]이고 [\"kali\", \"mari\", \"don\"]의 그리움 점수가 각각 [11점, 1점, 55점]]이고, \"tony\"는 그리움 점수가 없을 때, 이 사진의 추억 점수는 3명의 그리움 점수를 합한 67(11 + 1 + 55)점입니다.\n",
    "\n",
    "그리워하는 사람의 이름을 담은 문자열 배열 name, 각 사람별 그리움 점수를 담은 정수 배열 yearning, 각 사진에 찍힌 인물의 이름을 담은 이차원 문자열 배열 photo가 매개변수로 주어질 때, 사진들의 추억 점수를 photo에 주어진 순서대로 배열에 담아 return하는 solution 함수를 완성해주세요."
   ]
  },
  {
   "cell_type": "code",
   "execution_count": null,
   "metadata": {},
   "outputs": [],
   "source": [
    "def solution(name, yearning, photo):\n",
    "    results = dict(zip(name, yearning))\n",
    "    \n",
    "    answers = []\n",
    "    for p in photo:\n",
    "        values = [results[x] for x in p if x in results.keys()]\n",
    "        answers.append(sum(values))\n",
    "    return answers"
   ]
  },
  {
   "cell_type": "markdown",
   "metadata": {},
   "source": [
    "### 공원 산책"
   ]
  },
  {
   "cell_type": "code",
   "execution_count": null,
   "metadata": {},
   "outputs": [],
   "source": [
    "def solution(park, routes):\n",
    "    nrow, ncol = len(park)-1, len(park[0])-1\n",
    "    coord = []\n",
    "    for i in range(nrow+1):\n",
    "        rows = []\n",
    "        for j in range(ncol+1):\n",
    "            idx = park[i][j]\n",
    "            if idx == 'S':\n",
    "                row, col = i, j\n",
    "                rows.append(0)\n",
    "            elif idx == 'X':\n",
    "                rows.append(1)\n",
    "            else:\n",
    "                rows.append(0)\n",
    "        coord.append(rows)\n",
    "    \n",
    "    move_row = {'E':0, 'W':0, 'N':-1, 'S':1}\n",
    "    move_col = {'E':1, 'W':-1, 'N':0, 'S':0}\n",
    "    for route in routes:\n",
    "        error = 0\n",
    "        d, step = route.split()\n",
    "        \n",
    "        step = int(step) \n",
    "        \n",
    "        new_row = row + move_row[d] * step\n",
    "        new_col = col + move_col[d] * step\n",
    "\n",
    "        if (new_row < 0) or (new_row > nrow):\n",
    "            continue\n",
    "        \n",
    "        elif (new_col < 0) or (new_col > ncol):\n",
    "            continue \n",
    "            \n",
    "        elif row != new_row:\n",
    "            for r in range(1, step+1):\n",
    "                r_step = row + move_row[d]*r\n",
    "                if coord[r_step][col]:\n",
    "                    error += 1\n",
    "\n",
    "        elif col != new_col:\n",
    "            for c in range(1, step+1):\n",
    "                c_step = col + move_col[d]*c\n",
    "                if coord[row][c_step]:\n",
    "                    error += 1\n",
    "\n",
    "        if error == 0:\n",
    "            row = new_row\n",
    "            col = new_col\n",
    "\n",
    "        elif error > 0:\n",
    "            row = row \n",
    "            col = col\n",
    "\n",
    "    return [row, col]"
   ]
  },
  {
   "cell_type": "code",
   "execution_count": null,
   "metadata": {},
   "outputs": [],
   "source": []
  },
  {
   "cell_type": "code",
   "execution_count": null,
   "metadata": {},
   "outputs": [],
   "source": []
  },
  {
   "cell_type": "code",
   "execution_count": null,
   "metadata": {},
   "outputs": [],
   "source": []
  }
 ],
 "metadata": {
  "kernelspec": {
   "display_name": "Python 3",
   "language": "python",
   "name": "python3"
  },
  "language_info": {
   "codemirror_mode": {
    "name": "ipython",
    "version": 3
   },
   "file_extension": ".py",
   "mimetype": "text/x-python",
   "name": "python",
   "nbconvert_exporter": "python",
   "pygments_lexer": "ipython3",
   "version": "3.8.5"
  },
  "orig_nbformat": 4
 },
 "nbformat": 4,
 "nbformat_minor": 2
}
