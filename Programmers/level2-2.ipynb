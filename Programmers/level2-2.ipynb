{
 "cells": [
  {
   "cell_type": "markdown",
   "metadata": {},
   "source": [
    "### 거리두기 확인하기"
   ]
  },
  {
   "cell_type": "code",
   "execution_count": null,
   "metadata": {},
   "outputs": [],
   "source": [
    "from collections import deque \n",
    "\n",
    "def start_point(place):\n",
    "    answer = []\n",
    "    for i in range(7):\n",
    "        for j in range(7):\n",
    "            if place[i][j] == 'P':\n",
    "                answer.append([i,j])\n",
    "    \n",
    "    return answer \n",
    "\n",
    "def solution(places):\n",
    "\n",
    "    answer = []\n",
    "    for place in places:\n",
    "        place = list(map(lambda x: ['O']*2 + list(x) + ['O']*2, place))\n",
    "        place = [['O'] * 9]*2 + place + [['O'] * 9]*2\n",
    "        ground_truth = start_point(place)\n",
    "        value = 1\n",
    "\n",
    "        if ground_truth == []:\n",
    "            answer.append(value)\n",
    "            continue\n",
    "        \n",
    "        for gt in ground_truth:\n",
    "            # row left\n",
    "            if place[gt[0]-1][gt[1]] == 'P':\n",
    "                value = 0\n",
    "                break\n",
    "            \n",
    "            elif place[gt[0]-1][gt[1]] == 'O':\n",
    "                values = [place[gt[0]-2][gt[1]], place[gt[0]-1][gt[1]+1], place[gt[0]-1][gt[1]-1]] \n",
    "                if 'P' in values:\n",
    "                    value = 0\n",
    "                    break\n",
    "            \n",
    "            # row right \n",
    "            if place[gt[0]+1][gt[1]] == 'P':\n",
    "                value = 0\n",
    "                break \n",
    "            \n",
    "            elif place[gt[0]+1][gt[1]] == 'O':\n",
    "                values = [place[gt[0]+2][gt[1]], place[gt[0]+1][gt[1]+1], place[gt[0]+1][gt[1]-1]] \n",
    "                if 'P' in values:\n",
    "                    value = 0\n",
    "                    break \n",
    "            \n",
    "            # col upper\n",
    "            if place[gt[0]][gt[1]-1] == 'P':\n",
    "                value = 0\n",
    "                break\n",
    "            \n",
    "            elif place[gt[0]][gt[1]-1] == 'O':\n",
    "                values = [place[gt[0]][gt[1]-2], place[gt[0]-1][gt[1]-1], place[gt[0]+1][gt[1]-1]]\n",
    "                if 'P' in values:\n",
    "                    value = 0\n",
    "            \n",
    "            # col lower \n",
    "            if place[gt[0]][gt[1]+1] == 'P':\n",
    "                value = 0\n",
    "                break\n",
    "            \n",
    "            elif place[gt[0]][gt[1]+1] == 'O':\n",
    "                values = [place[gt[0]][gt[1]+2], place[gt[0]-1][gt[1]+1], place[gt[0]+1][gt[1]+1]] \n",
    "                if 'P' in values:\n",
    "                    value = 0\n",
    "                \n",
    "        answer.append(value)\n",
    "        \n",
    "    return answer"
   ]
  },
  {
   "cell_type": "markdown",
   "metadata": {},
   "source": [
    "## 주차 요금 계산"
   ]
  },
  {
   "cell_type": "code",
   "execution_count": null,
   "metadata": {},
   "outputs": [],
   "source": [
    "from collections import defaultdict\n",
    "from math import ceil\n",
    "def str2min(time):\n",
    "    hour_, min_ = time.split(':')\n",
    "    return int(hour_) * 60 + int(min_)\n",
    "\n",
    "def solution(fees, records):\n",
    "    default_time, default_fee, unit_time, unit_fee = fees\n",
    "    assets = defaultdict(int)\n",
    "    accumulate = defaultdict(int)\n",
    "    fees = defaultdict(int)\n",
    "    answers = []\n",
    "    for record in records:\n",
    "        times, car_number, types = record.split()\n",
    "        times = str2min(times)\n",
    "        if types == 'IN':\n",
    "            assets[car_number] = times\n",
    "        \n",
    "        elif types == 'OUT':\n",
    "            accumulate[car_number] += times - assets[car_number]\n",
    "            del assets[car_number]\n",
    "        \n",
    "    for car_number, elapsed_time in assets.items():\n",
    "        elapsed_time = str2min('23:59') - elapsed_time\n",
    "        accumulate[car_number] += elapsed_time\n",
    "    \n",
    "    for car_number, elapsed_time in sorted(accumulate.items(), key = lambda x: x[0]):\n",
    "        fee = default_fee + max(0, ceil((elapsed_time - default_time)/unit_time) * unit_fee)\n",
    "        answers.append(fee) \n",
    "    \n",
    "    return answers"
   ]
  },
  {
   "cell_type": "markdown",
   "metadata": {},
   "source": [
    "### 연속된 부분 수열의 합"
   ]
  },
  {
   "cell_type": "code",
   "execution_count": null,
   "metadata": {},
   "outputs": [],
   "source": [
    "def solution(sequence, k):\n",
    "    answer = []\n",
    "    length = len(sequence)\n",
    "    src = sequence[0]\n",
    "    idx = 0\n",
    "    for i, seq in enumerate(sequence):\n",
    "        \n",
    "        while src < k and idx < length - 1:\n",
    "            idx += 1\n",
    "            src += sequence[idx]\n",
    "        \n",
    "        if src == k:\n",
    "            answer.append([idx-i, [i, idx]])\n",
    "        \n",
    "        src -= seq\n",
    "    answer.sort()\n",
    "    return answer[0][1]"
   ]
  },
  {
   "cell_type": "markdown",
   "metadata": {},
   "source": [
    "### 이모티콘 할인행사"
   ]
  },
  {
   "cell_type": "code",
   "execution_count": null,
   "metadata": {},
   "outputs": [],
   "source": [
    "from itertools import product\n",
    "\n",
    "def solution(users, emoticons):\n",
    "    emg_length = len(emoticons)\n",
    "    answer = [0, 0]\n",
    "    \n",
    "    for p in product([10, 20, 30, 40], repeat=emg_length):\n",
    "        emg_plus, money = 0, 0\n",
    "        \n",
    "        for i in range(len(users)):\n",
    "            total = 0 \n",
    "            for j in range(len(p)):\n",
    "                if users[i][0] <= p[j]:\n",
    "                    total += emoticons[j] * (100 - p[j]) * 0.01\n",
    "            \n",
    "            if total >= users[i][1]:\n",
    "                emg_plus += 1\n",
    "            \n",
    "            else:\n",
    "                money += total \n",
    "        \n",
    "        if answer[0] > emg_plus:\n",
    "            continue\n",
    "        \n",
    "        if answer[0] == emg_plus and answer[1] > money:\n",
    "            continue \n",
    "        \n",
    "        answer = [emg_plus, money]\n",
    "        \n",
    "    return answer"
   ]
  },
  {
   "cell_type": "code",
   "execution_count": null,
   "metadata": {},
   "outputs": [],
   "source": []
  },
  {
   "cell_type": "code",
   "execution_count": null,
   "metadata": {},
   "outputs": [],
   "source": []
  }
 ],
 "metadata": {
  "kernelspec": {
   "display_name": "Python 3",
   "language": "python",
   "name": "python3"
  },
  "language_info": {
   "codemirror_mode": {
    "name": "ipython",
    "version": 3
   },
   "file_extension": ".py",
   "mimetype": "text/x-python",
   "name": "python",
   "nbconvert_exporter": "python",
   "pygments_lexer": "ipython3",
   "version": "3.8.5"
  },
  "orig_nbformat": 4
 },
 "nbformat": 4,
 "nbformat_minor": 2
}
