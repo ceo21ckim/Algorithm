{
 "cells": [
  {
   "cell_type": "markdown",
   "metadata": {},
   "source": [
    "### 거리두기 확인하기"
   ]
  },
  {
   "cell_type": "code",
   "execution_count": null,
   "metadata": {},
   "outputs": [],
   "source": [
    "from collections import deque \n",
    "\n",
    "def start_point(place):\n",
    "    answer = []\n",
    "    for i in range(7):\n",
    "        for j in range(7):\n",
    "            if place[i][j] == 'P':\n",
    "                answer.append([i,j])\n",
    "    \n",
    "    return answer \n",
    "\n",
    "def solution(places):\n",
    "\n",
    "    answer = []\n",
    "    for place in places:\n",
    "        place = list(map(lambda x: ['O']*2 + list(x) + ['O']*2, place))\n",
    "        place = [['O'] * 9]*2 + place + [['O'] * 9]*2\n",
    "        ground_truth = start_point(place)\n",
    "        value = 1\n",
    "\n",
    "        if ground_truth == []:\n",
    "            answer.append(value)\n",
    "            continue\n",
    "        \n",
    "        for gt in ground_truth:\n",
    "            # row left\n",
    "            if place[gt[0]-1][gt[1]] == 'P':\n",
    "                value = 0\n",
    "                break\n",
    "            \n",
    "            elif place[gt[0]-1][gt[1]] == 'O':\n",
    "                values = [place[gt[0]-2][gt[1]], place[gt[0]-1][gt[1]+1], place[gt[0]-1][gt[1]-1]] \n",
    "                if 'P' in values:\n",
    "                    value = 0\n",
    "                    break\n",
    "            \n",
    "            # row right \n",
    "            if place[gt[0]+1][gt[1]] == 'P':\n",
    "                value = 0\n",
    "                break \n",
    "            \n",
    "            elif place[gt[0]+1][gt[1]] == 'O':\n",
    "                values = [place[gt[0]+2][gt[1]], place[gt[0]+1][gt[1]+1], place[gt[0]+1][gt[1]-1]] \n",
    "                if 'P' in values:\n",
    "                    value = 0\n",
    "                    break \n",
    "            \n",
    "            # col upper\n",
    "            if place[gt[0]][gt[1]-1] == 'P':\n",
    "                value = 0\n",
    "                break\n",
    "            \n",
    "            elif place[gt[0]][gt[1]-1] == 'O':\n",
    "                values = [place[gt[0]][gt[1]-2], place[gt[0]-1][gt[1]-1], place[gt[0]+1][gt[1]-1]]\n",
    "                if 'P' in values:\n",
    "                    value = 0\n",
    "            \n",
    "            # col lower \n",
    "            if place[gt[0]][gt[1]+1] == 'P':\n",
    "                value = 0\n",
    "                break\n",
    "            \n",
    "            elif place[gt[0]][gt[1]+1] == 'O':\n",
    "                values = [place[gt[0]][gt[1]+2], place[gt[0]-1][gt[1]+1], place[gt[0]+1][gt[1]+1]] \n",
    "                if 'P' in values:\n",
    "                    value = 0\n",
    "                \n",
    "        answer.append(value)\n",
    "        \n",
    "    return answer"
   ]
  },
  {
   "cell_type": "markdown",
   "metadata": {},
   "source": [
    "## 주차 요금 계산"
   ]
  },
  {
   "cell_type": "code",
   "execution_count": null,
   "metadata": {},
   "outputs": [],
   "source": [
    "from collections import defaultdict\n",
    "from math import ceil\n",
    "def str2min(time):\n",
    "    hour_, min_ = time.split(':')\n",
    "    return int(hour_) * 60 + int(min_)\n",
    "\n",
    "def solution(fees, records):\n",
    "    default_time, default_fee, unit_time, unit_fee = fees\n",
    "    assets = defaultdict(int)\n",
    "    accumulate = defaultdict(int)\n",
    "    fees = defaultdict(int)\n",
    "    answers = []\n",
    "    for record in records:\n",
    "        times, car_number, types = record.split()\n",
    "        times = str2min(times)\n",
    "        if types == 'IN':\n",
    "            assets[car_number] = times\n",
    "        \n",
    "        elif types == 'OUT':\n",
    "            accumulate[car_number] += times - assets[car_number]\n",
    "            del assets[car_number]\n",
    "        \n",
    "    for car_number, elapsed_time in assets.items():\n",
    "        elapsed_time = str2min('23:59') - elapsed_time\n",
    "        accumulate[car_number] += elapsed_time\n",
    "    \n",
    "    for car_number, elapsed_time in sorted(accumulate.items(), key = lambda x: x[0]):\n",
    "        fee = default_fee + max(0, ceil((elapsed_time - default_time)/unit_time) * unit_fee)\n",
    "        answers.append(fee) \n",
    "    \n",
    "    return answers"
   ]
  },
  {
   "cell_type": "code",
   "execution_count": null,
   "metadata": {},
   "outputs": [],
   "source": []
  },
  {
   "cell_type": "code",
   "execution_count": null,
   "metadata": {},
   "outputs": [],
   "source": []
  },
  {
   "cell_type": "code",
   "execution_count": null,
   "metadata": {},
   "outputs": [],
   "source": []
  },
  {
   "cell_type": "code",
   "execution_count": null,
   "metadata": {},
   "outputs": [],
   "source": []
  },
  {
   "cell_type": "code",
   "execution_count": null,
   "metadata": {},
   "outputs": [],
   "source": []
  }
 ],
 "metadata": {
  "language_info": {
   "name": "python"
  },
  "orig_nbformat": 4
 },
 "nbformat": 4,
 "nbformat_minor": 2
}
