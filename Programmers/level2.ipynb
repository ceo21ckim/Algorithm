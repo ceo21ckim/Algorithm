{
 "cells": [
  {
   "cell_type": "markdown",
   "metadata": {},
   "source": [
    "### 최댓값과 최솟값"
   ]
  },
  {
   "cell_type": "code",
   "execution_count": null,
   "metadata": {},
   "outputs": [],
   "source": [
    "def solution(s):\n",
    "    s = [int(x) for x in s.split()]\n",
    "    return f\"{min(s)} {max(s)}\""
   ]
  },
  {
   "cell_type": "markdown",
   "metadata": {},
   "source": [
    "### JadenCase 문자열 만들기"
   ]
  },
  {
   "cell_type": "code",
   "execution_count": null,
   "metadata": {},
   "outputs": [],
   "source": [
    "def solution(s):\n",
    "    return ' '.join([word.capitalize() for word in s.split(\" \")])"
   ]
  },
  {
   "cell_type": "markdown",
   "metadata": {},
   "source": [
    "### 최솟값 만들기"
   ]
  },
  {
   "cell_type": "code",
   "execution_count": null,
   "metadata": {},
   "outputs": [],
   "source": [
    "def solution(A, B):\n",
    "    answer = [x*y for x, y in zip(sorted(A), sorted(B, reverse=True))]\n",
    "    return sum(answer)\n"
   ]
  },
  {
   "cell_type": "markdown",
   "metadata": {},
   "source": [
    "### 올바른 괄호"
   ]
  },
  {
   "cell_type": "code",
   "execution_count": null,
   "metadata": {},
   "outputs": [],
   "source": [
    "from collections import deque \n",
    "def solution(s):\n",
    "    answer = deque()\n",
    "    for i in s:\n",
    "        if not len(answer) and i == ')':\n",
    "            return False\n",
    "            \n",
    "        if i == ')' and answer[-1] == '(':\n",
    "            answer.pop()\n",
    "        else:\n",
    "            answer.append(i)\n",
    "    if not answer :\n",
    "        return True\n",
    "    return False"
   ]
  },
  {
   "cell_type": "markdown",
   "metadata": {},
   "source": [
    "### 이진 변환 반복하기"
   ]
  },
  {
   "cell_type": "code",
   "execution_count": null,
   "metadata": {},
   "outputs": [],
   "source": [
    "def solution(s):\n",
    "    zeros, i = 0, 0\n",
    "    while s != '1':\n",
    "        i += 1\n",
    "        zeros += s.count('0')\n",
    "        s = bin(s.count('1'))[2:]\n",
    "    return [i, zeros] "
   ]
  },
  {
   "cell_type": "markdown",
   "metadata": {},
   "source": [
    "### 숫자의 표현"
   ]
  },
  {
   "cell_type": "code",
   "execution_count": null,
   "metadata": {},
   "outputs": [],
   "source": [
    "def solution(n):\n",
    "    answer = 0\n",
    "    for i in range(1, n+1):\n",
    "        _sum = 0\n",
    "        while _sum <= n:\n",
    "            _sum += i \n",
    "            i += 1\n",
    "            if _sum == n:\n",
    "                answer += 1\n",
    "    return answer "
   ]
  },
  {
   "cell_type": "markdown",
   "metadata": {},
   "source": [
    "### 다음 큰 숫자"
   ]
  },
  {
   "cell_type": "code",
   "execution_count": null,
   "metadata": {},
   "outputs": [],
   "source": [
    "def solution(n):\n",
    "    src = bin(n)[2:].count('1')\n",
    "    while True:\n",
    "        n += 1\n",
    "        dst = bin(n)[2:].count('1')\n",
    "        if src == dst:\n",
    "            return n"
   ]
  },
  {
   "cell_type": "markdown",
   "metadata": {},
   "source": [
    "### 피보나치 수"
   ]
  },
  {
   "cell_type": "code",
   "execution_count": null,
   "metadata": {},
   "outputs": [],
   "source": [
    "def solution(n):\n",
    "    a, b = 0, 1\n",
    "    for _ in range(n):\n",
    "        a, b = b, a + b\n",
    "    return a % 1234567"
   ]
  },
  {
   "cell_type": "markdown",
   "metadata": {},
   "source": [
    "### 짝지어 제거하기"
   ]
  },
  {
   "cell_type": "code",
   "execution_count": null,
   "metadata": {},
   "outputs": [],
   "source": [
    "from collections import deque\n",
    "def solution(s):\n",
    "    stack = deque()\n",
    "    for i in s:\n",
    "        if not stack:\n",
    "            stack.append(i)\n",
    "        elif stack[-1] == i:\n",
    "            stack.pop()\n",
    "        else:\n",
    "            stack.append(i)\n",
    "    return int(not(stack))"
   ]
  },
  {
   "cell_type": "markdown",
   "metadata": {},
   "source": [
    "### 카펫"
   ]
  },
  {
   "cell_type": "code",
   "execution_count": null,
   "metadata": {},
   "outputs": [],
   "source": [
    "def solve(n):\n",
    "    answer = []\n",
    "    for i in range(1, n+1):\n",
    "        if not n%i:\n",
    "            answer.append(i)\n",
    "    return answer \n",
    "\n",
    "def solution(brown, yellow):\n",
    "    new = solve(brown + yellow)\n",
    "    for x, y in zip(new, new[::-1]):\n",
    "        if (x-2) * (y-2) == yellow:\n",
    "            return [y, x]"
   ]
  },
  {
   "cell_type": "markdown",
   "metadata": {},
   "source": [
    "### 영어 끝말잇기"
   ]
  },
  {
   "cell_type": "code",
   "execution_count": null,
   "metadata": {},
   "outputs": [],
   "source": [
    "def solution(n, words):\n",
    "    asset = []\n",
    "    for i, w in enumerate(words):\n",
    "        if not asset:\n",
    "            asset.append(w)\n",
    "        else:\n",
    "            if w in asset or asset[-1][-1] != w[0]:\n",
    "                return [i%n + 1, i//n + 1]        \n",
    "        asset.append(w)\n",
    "    return [0, 0]"
   ]
  },
  {
   "cell_type": "markdown",
   "metadata": {},
   "source": [
    "### 점프와 순간이동"
   ]
  },
  {
   "cell_type": "code",
   "execution_count": null,
   "metadata": {},
   "outputs": [],
   "source": [
    "def solution(N):\n",
    "    answer = 1\n",
    "    while N != 1:\n",
    "        if N%2:\n",
    "            N -= 1\n",
    "            answer += 1\n",
    "        else:\n",
    "            N //= 2\n",
    "    return answer "
   ]
  },
  {
   "cell_type": "markdown",
   "metadata": {},
   "source": [
    "### 귤 고르기"
   ]
  },
  {
   "cell_type": "code",
   "execution_count": null,
   "metadata": {},
   "outputs": [],
   "source": [
    "from collections import Counter\n",
    "\n",
    "def solution(k, tangerine):\n",
    "    n, answer = 0, 0\n",
    "    count = Counter(tangerine)\n",
    "    for v in sorted(count.values(), reverse=True):\n",
    "        if n < k:\n",
    "            n += v\n",
    "            answer += 1\n",
    "    return answer\n"
   ]
  },
  {
   "cell_type": "markdown",
   "metadata": {},
   "source": [
    "### 구명보트"
   ]
  },
  {
   "cell_type": "code",
   "execution_count": null,
   "metadata": {},
   "outputs": [],
   "source": [
    "from collections import deque \n",
    "def solution(people, limit):\n",
    "    p, answer = deque(sorted(people)), 0\n",
    "    while len(p) > 1:\n",
    "        if p[0] + p[-1] > limit:\n",
    "            p.pop()\n",
    "            answer += 1\n",
    "        else:\n",
    "            p.pop(); p.popleft()\n",
    "            answer += 1\n",
    "    if p: answer += 1\n",
    "    return answer "
   ]
  },
  {
   "cell_type": "markdown",
   "metadata": {},
   "source": [
    "### 예상 대진표"
   ]
  },
  {
   "cell_type": "code",
   "execution_count": null,
   "metadata": {},
   "outputs": [],
   "source": [
    "def solution(N, A, B):\n",
    "    for i, _ in enumerate(range(N//2)):\n",
    "        if abs(A-B) == 1 and (A//2) != (B//2):\n",
    "            return i + 1\n",
    "        A = A//2 if not A%2 else A//2 + 1\n",
    "        B = B//2 if not B%2 else B//2 + 1"
   ]
  },
  {
   "cell_type": "markdown",
   "metadata": {},
   "source": [
    "### N개의 최소공배수"
   ]
  },
  {
   "cell_type": "code",
   "execution_count": null,
   "metadata": {},
   "outputs": [],
   "source": [
    "from math import gcd \n",
    "def solution(arr):\n",
    "    while 1:\n",
    "        if len(arr) == 1:\n",
    "            break\n",
    "        arr[0] = arr[0] * arr[1] // gcd(arr[0], arr[1])\n",
    "        del arr[1]\n",
    "    return arr[0]"
   ]
  },
  {
   "cell_type": "markdown",
   "metadata": {},
   "source": [
    "### 멀리 뛰기"
   ]
  },
  {
   "cell_type": "code",
   "execution_count": null,
   "metadata": {},
   "outputs": [],
   "source": [
    "\n",
    "def solution(n):\n",
    "    if n == 1: return 1\n",
    "    else:\n",
    "        p = [0] * n\n",
    "        p[0] = 1\n",
    "        p[1] = 2\n",
    "        \n",
    "        for i in range(2, n):\n",
    "            p[i] = (p[i-1] + p[i-2]) % 1234567\n",
    "        \n",
    "    return p[-1]"
   ]
  },
  {
   "cell_type": "markdown",
   "metadata": {},
   "source": [
    "### 연속 부분 수열 합의 개수"
   ]
  },
  {
   "cell_type": "code",
   "execution_count": null,
   "metadata": {},
   "outputs": [],
   "source": [
    "def solution(elements):\n",
    "    answer = set()\n",
    "\n",
    "    length = len(elements)\n",
    "    elements = elements * 2\n",
    "\n",
    "    for i in range(length):\n",
    "        for j in range(length):\n",
    "            answer.add(sum(elements[j:j+i+1]))\n",
    "    return len(answer)"
   ]
  },
  {
   "cell_type": "markdown",
   "metadata": {},
   "source": [
    "### 괄호 회전하기"
   ]
  },
  {
   "cell_type": "code",
   "execution_count": null,
   "metadata": {},
   "outputs": [],
   "source": [
    "from collections import deque\n",
    "\n",
    "def solution(s):\n",
    "    answer = 0\n",
    "    target = s*2\n",
    "    for j in range(len(s)):\n",
    "        t = target[j:j+len(s)]\n",
    "        deq = deque()\n",
    "        for i in t:\n",
    "            if not deq:\n",
    "                deq.append(i)\n",
    "            else:\n",
    "                if i in ['(', '[', '{']:\n",
    "                    deq.append(i)\n",
    "                else:\n",
    "                    if i == ')' and deq[-1] == '(':\n",
    "                        deq.pop()\n",
    "                    elif i == ']' and deq[-1] == '[':\n",
    "                        deq.pop()\n",
    "                    elif i == '}' and deq[-1] == '{':\n",
    "                        deq.pop()\n",
    "        if not deq:\n",
    "            answer += 1\n",
    "    return answer"
   ]
  },
  {
   "cell_type": "markdown",
   "metadata": {},
   "source": [
    "### 할인 행사"
   ]
  },
  {
   "cell_type": "code",
   "execution_count": null,
   "metadata": {},
   "outputs": [],
   "source": [
    "from collections import Counter\n",
    "def solution(want, number, discount):\n",
    "    answer = 0\n",
    "    values = {w:n for w, n in zip(want, number)}\n",
    "    for i in range(len(discount) - 9):\n",
    "        if values == Counter(discount[i:i+10]):\n",
    "            answer += 1\n",
    "    return answer"
   ]
  },
  {
   "cell_type": "markdown",
   "metadata": {},
   "source": [
    "### n^2 배열 자르기"
   ]
  },
  {
   "cell_type": "code",
   "execution_count": null,
   "metadata": {},
   "outputs": [],
   "source": [
    "def solution(n, left, right):\n",
    "    answer = []\n",
    "    for i in range(left, right+1):\n",
    "        a, b = i//n, i%n        \n",
    "        answer.append(max(a,b)+1)\n",
    "    return answer"
   ]
  },
  {
   "cell_type": "markdown",
   "metadata": {},
   "source": [
    "### H-Index"
   ]
  },
  {
   "cell_type": "code",
   "execution_count": null,
   "metadata": {},
   "outputs": [],
   "source": []
  },
  {
   "cell_type": "markdown",
   "metadata": {},
   "source": [
    "### 행렬의 곱셈"
   ]
  },
  {
   "cell_type": "code",
   "execution_count": null,
   "metadata": {},
   "outputs": [],
   "source": [
    "import numpy as np \n",
    "def solution(arr1, arr2):\n",
    "    arr1 = np.array(arr1)\n",
    "    arr2 = np.array(arr2)\n",
    "    return arr1.dot(arr2).tolist()"
   ]
  },
  {
   "cell_type": "markdown",
   "metadata": {},
   "source": [
    "### 의상"
   ]
  },
  {
   "cell_type": "code",
   "execution_count": null,
   "metadata": {},
   "outputs": [],
   "source": [
    "from collections import defaultdict\n",
    "def solution(clothes):\n",
    "    inform = defaultdict(list)\n",
    "    answer = 1\n",
    "    for cl in clothes:\n",
    "        k, v = cl \n",
    "        inform[v] += [k]\n",
    "    \n",
    "    for k in inform.keys():\n",
    "        n = len(inform[k])\n",
    "        answer *= (n + 1)\n",
    "    \n",
    "    return answer - 1"
   ]
  },
  {
   "cell_type": "markdown",
   "metadata": {},
   "source": [
    "### 캐시"
   ]
  },
  {
   "cell_type": "code",
   "execution_count": null,
   "metadata": {},
   "outputs": [],
   "source": []
  },
  {
   "cell_type": "markdown",
   "metadata": {},
   "source": [
    "### 튜플"
   ]
  },
  {
   "cell_type": "code",
   "execution_count": null,
   "metadata": {},
   "outputs": [],
   "source": [
    "import re\n",
    "def solution(s):\n",
    "    inputs = [i for i in s[1:-1].split('},{')]\n",
    "    inputs = [re.sub('[^0-9,]', '', x).split(',') for x in inputs]\n",
    "    \n",
    "    answer = []\n",
    "    for x in sorted(inputs, key=lambda x: len(x)):\n",
    "        for t in x:\n",
    "            t = int(t)\n",
    "            if t not in answer:\n",
    "                answer.append(t)\n",
    "    \n",
    "    return answer"
   ]
  },
  {
   "cell_type": "markdown",
   "metadata": {},
   "source": [
    "### 기능 개발"
   ]
  },
  {
   "cell_type": "code",
   "execution_count": null,
   "metadata": {},
   "outputs": [],
   "source": [
    "# solution 1 -> deque \n",
    "\n",
    "from collections import deque\n",
    "def solution(progresses, speeds):\n",
    "    answer, remain_days = [], deque()\n",
    "    for prg, spd in zip(progresses, speeds):\n",
    "        days = (100 - prg) // spd + int((100-prg) % spd != 0)\n",
    "        remain_days.append(days)\n",
    "    \n",
    "    while remain_days:\n",
    "        tmp = remain_days.popleft()\n",
    "        cnt = 1\n",
    "        \n",
    "        while remain_days and tmp >= remain_days[0]:\n",
    "            remain_days.popleft()\n",
    "            cnt += 1\n",
    "        answer.append(cnt)\n",
    "    \n",
    "    return answer \n",
    "\n",
    "\n",
    "# solution 2 try/except\n",
    "\n",
    "def solution(progresses, speeds):\n",
    "    answer, remain_days = [], []\n",
    "    for prg, spd in zip(progresses, speeds):\n",
    "        days = (100 - prg) // spd + int((100-prg) % spd != 0)\n",
    "        remain_days.append(days)\n",
    "    \n",
    "    cnt = 1\n",
    "    for i in range(len(remain_days)):\n",
    "        try:\n",
    "            if remain_days[i+1] <= remain_days[i]:\n",
    "                remain_days[i+1] = remain_days[i]\n",
    "                cnt += 1\n",
    "            else:\n",
    "                answer.append(cnt)\n",
    "                cnt = 1\n",
    "        except:\n",
    "            answer.append(cnt)\n",
    "    return answer "
   ]
  },
  {
   "cell_type": "markdown",
   "metadata": {},
   "source": [
    "### 프로세스"
   ]
  },
  {
   "cell_type": "code",
   "execution_count": null,
   "metadata": {},
   "outputs": [],
   "source": [
    "def solution(priorities, location):\n",
    "    query = [[i, p] for i, p in enumerate(priorities)]\n",
    "    \n",
    "    answer = 0\n",
    "    while True:\n",
    "        p = query.pop(0)\n",
    "        if any(p[1] < i[1] for i in query):\n",
    "            query.append(p)\n",
    "        \n",
    "        else:\n",
    "            answer += 1   \n",
    "            if p[0] == location:\n",
    "                return answer \n",
    "\n",
    "\n",
    "\n",
    "from collections import deque\n",
    "def solution(priorities, location):\n",
    "    answer = []\n",
    "    queue = deque((i, p) for i, p in enumerate(priorities))\n",
    "    while queue:\n",
    "        process = queue.popleft()\n",
    "        if queue and any(process[1] < q[1] for q in queue):\n",
    "            queue.append(process)\n",
    "        else:\n",
    "            answer.append(process)\n",
    "    \n",
    "    # location 실행 순서 찾기\n",
    "    for i in answer:\n",
    "        if i[0] == location:\n",
    "            return answer.index(i)+1"
   ]
  },
  {
   "cell_type": "markdown",
   "metadata": {},
   "source": [
    "### 피로도"
   ]
  },
  {
   "cell_type": "code",
   "execution_count": null,
   "metadata": {},
   "outputs": [],
   "source": []
  },
  {
   "cell_type": "markdown",
   "metadata": {},
   "source": [
    "### [1차] 뉴스 클러스터링"
   ]
  },
  {
   "cell_type": "code",
   "execution_count": null,
   "metadata": {},
   "outputs": [],
   "source": []
  },
  {
   "cell_type": "markdown",
   "metadata": {},
   "source": [
    "### 전화번호 목록"
   ]
  },
  {
   "cell_type": "code",
   "execution_count": null,
   "metadata": {},
   "outputs": [],
   "source": [
    "def solution(pb):\n",
    "    pb.sort()\n",
    "    for i in range(len(pb)-1):\n",
    "        if (pb[i] in pb[i+1][:len(pb[i])]):\n",
    "            return False \n",
    "    return True"
   ]
  },
  {
   "cell_type": "markdown",
   "metadata": {},
   "source": [
    "### 타겟 넘버"
   ]
  },
  {
   "cell_type": "code",
   "execution_count": null,
   "metadata": {},
   "outputs": [],
   "source": [
    "def dfs(numbers, target, idx, values):\n",
    "    global answer \n",
    "    if idx == len(numbers) and target==values:\n",
    "        answer += 1\n",
    "        return \n",
    "    elif idx == len(numbers):\n",
    "        return \n",
    "    \n",
    "    dfs(numbers, target, idx+1, values + numbers[idx])\n",
    "    dfs(numbers, target, idx+1, values - numbers[idx])\n",
    "\n",
    "def solution(numbers, target):\n",
    "    global answer\n",
    "    answer = 0\n",
    "    dfs(numbers, target, 0, 0)\n",
    "    return answer"
   ]
  },
  {
   "cell_type": "markdown",
   "metadata": {},
   "source": [
    "### k진수에서 소수 개수 구하기"
   ]
  },
  {
   "cell_type": "code",
   "execution_count": null,
   "metadata": {},
   "outputs": [],
   "source": []
  },
  {
   "cell_type": "markdown",
   "metadata": {},
   "source": [
    "### [3차] 압축"
   ]
  },
  {
   "cell_type": "code",
   "execution_count": null,
   "metadata": {},
   "outputs": [],
   "source": []
  },
  {
   "cell_type": "markdown",
   "metadata": {},
   "source": [
    "### [3차] n진수 게임"
   ]
  },
  {
   "cell_type": "code",
   "execution_count": null,
   "metadata": {},
   "outputs": [],
   "source": []
  },
  {
   "cell_type": "markdown",
   "metadata": {},
   "source": [
    "### 모음 사전"
   ]
  },
  {
   "cell_type": "code",
   "execution_count": null,
   "metadata": {},
   "outputs": [],
   "source": [
    "from itertools import product\n",
    "\n",
    "def solution(word):\n",
    "    words = []\n",
    "    for i in range(1, 6):\n",
    "        for w in product(['A', 'E', 'I', 'O', 'U'], repeat=i):\n",
    "            words.append(''.join(list(w)))\n",
    "    words.sort()\n",
    "    return words.index(word) + 1"
   ]
  },
  {
   "cell_type": "markdown",
   "metadata": {},
   "source": [
    "### 게임 맵 최단거리"
   ]
  },
  {
   "cell_type": "code",
   "execution_count": null,
   "metadata": {},
   "outputs": [],
   "source": []
  },
  {
   "cell_type": "markdown",
   "metadata": {},
   "source": [
    "### 더 맵게"
   ]
  },
  {
   "cell_type": "code",
   "execution_count": null,
   "metadata": {},
   "outputs": [],
   "source": []
  },
  {
   "cell_type": "markdown",
   "metadata": {},
   "source": [
    "### 주차 요금 계산"
   ]
  },
  {
   "cell_type": "code",
   "execution_count": null,
   "metadata": {},
   "outputs": [],
   "source": [
    "from collections import defaultdict\n",
    "from math import ceil\n",
    "def str2min(time):\n",
    "    hour_, min_ = time.split(':')\n",
    "    return int(hour_) * 60 + int(min_)\n",
    "\n",
    "def solution(fees, records):\n",
    "    default_time, default_fee, unit_time, unit_fee = fees\n",
    "    assets = defaultdict(int)\n",
    "    accumulate = defaultdict(int)\n",
    "    fees = defaultdict(int)\n",
    "    answers = []\n",
    "    for record in records:\n",
    "        times, car_number, types = record.split()\n",
    "        times = str2min(times)\n",
    "        if types == 'IN':\n",
    "            assets[car_number] = times\n",
    "        \n",
    "        elif types == 'OUT':\n",
    "            accumulate[car_number] += times - assets[car_number]\n",
    "            del assets[car_number]\n",
    "        \n",
    "    for car_number, elapsed_time in assets.items():\n",
    "        elapsed_time = str2min('23:59') - elapsed_time\n",
    "        accumulate[car_number] += elapsed_time\n",
    "    \n",
    "    for car_number, elapsed_time in sorted(accumulate.items(), key = lambda x: x[0]):\n",
    "        fee = default_fee + max(0, ceil((elapsed_time - default_time)/unit_time) * unit_fee)\n",
    "        answers.append(fee) \n",
    "    \n",
    "    return answers"
   ]
  },
  {
   "cell_type": "markdown",
   "metadata": {},
   "source": [
    "### 땅따먹기"
   ]
  },
  {
   "cell_type": "code",
   "execution_count": null,
   "metadata": {},
   "outputs": [],
   "source": []
  },
  {
   "cell_type": "markdown",
   "metadata": {},
   "source": [
    "### 뒤에 있는 큰 수 찾기"
   ]
  },
  {
   "cell_type": "code",
   "execution_count": null,
   "metadata": {},
   "outputs": [],
   "source": [
    "def solution(numbers):\n",
    "    stack = []\n",
    "    answer = [-1] * len(numbers)\n",
    "    \n",
    "    for idx in range(len(numbers)):\n",
    "        while stack and numbers[stack[-1]] < numbers[idx]:\n",
    "            answer[stack.pop()] = numbers[idx]\n",
    "        stack.append(idx)\n",
    "    return answer"
   ]
  },
  {
   "cell_type": "markdown",
   "metadata": {},
   "source": [
    "### 오픈 채팅방"
   ]
  },
  {
   "cell_type": "code",
   "execution_count": null,
   "metadata": {},
   "outputs": [],
   "source": [
    "def solution(record):\n",
    "    answer = []\n",
    "    user_list = {}\n",
    "    \n",
    "    for rec in record:\n",
    "        v = rec.split()\n",
    "        \n",
    "        if v[0] in ['Enter', 'Change']:\n",
    "            user_list[v[1]] = v[2]\n",
    "    \n",
    "    for rec in record:\n",
    "        v = rec.split()\n",
    "        if v[0] == 'Enter':\n",
    "            answer.append(f'{user_list[v[1]]}님이 들어왔습니다.')\n",
    "        elif v[0] == 'Leave':\n",
    "            answer.append(f'{user_list[v[1]]}님이 나갔습니다.')\n",
    "    \n",
    "    return answer"
   ]
  },
  {
   "cell_type": "markdown",
   "metadata": {},
   "source": [
    "### 숫자 변환하기"
   ]
  },
  {
   "cell_type": "code",
   "execution_count": null,
   "metadata": {},
   "outputs": [],
   "source": [
    "def solution(x, y, n):\n",
    "    answer = 0\n",
    "    s = set()\n",
    "    s.add(x)\n",
    "    \n",
    "    while s:\n",
    "        if y in s:\n",
    "            return answer\n",
    "        nx = set()\n",
    "        \n",
    "        for i in s:\n",
    "            if i+n <= y:\n",
    "                nx.add(i+n)\n",
    "            \n",
    "            if i*2 <= y:\n",
    "                nx.add(i*2)\n",
    "            \n",
    "            if i*3 <= y:\n",
    "                nx.add(i*3)\n",
    "        \n",
    "        s = nx\n",
    "        answer += 1 \n",
    "    \n",
    "    return -1"
   ]
  },
  {
   "cell_type": "markdown",
   "metadata": {},
   "source": [
    "### 소수 찾기"
   ]
  },
  {
   "cell_type": "code",
   "execution_count": null,
   "metadata": {},
   "outputs": [],
   "source": [
    "from itertools import permutations\n",
    "def solution(numbers):\n",
    "    li = []\n",
    "    for i in range(len(numbers)):\n",
    "        a = list(permutations(numbers, i+1))\n",
    "        li.extend([''.join(x) for x in a if int(''.join(x)) not in [0,1]])\n",
    "    li = list(set(map(int,li)))\n",
    "\n",
    "\n",
    "    def isprime(num):\n",
    "        if num == 1 : return False\n",
    "        n = int(num**(1/2))\n",
    "        for i in range(2,n+1):\n",
    "            if num % i == 0 : return False \n",
    "        return True\n",
    "    ans = 0 \n",
    "    for idx in li:\n",
    "        if isprime(idx): ans += 1\n",
    "    return ans"
   ]
  },
  {
   "cell_type": "markdown",
   "metadata": {},
   "source": [
    "### 두 큐 합 같게 만들기"
   ]
  },
  {
   "cell_type": "code",
   "execution_count": null,
   "metadata": {},
   "outputs": [],
   "source": [
    "from collections import deque\n",
    "def solution(queue1, queue2):\n",
    "    answer = 0 \n",
    "    q1 = deque(queue1)\n",
    "    q2 = deque(queue2)\n",
    "    _max = (len(queue1)) * 3\n",
    "    t1 = sum(q1)\n",
    "    t2 = sum(q2)\n",
    "    total = t1 + t2 \n",
    "    \n",
    "    if total % 2 != 0:\n",
    "        return -1\n",
    "    \n",
    "    while 1:\n",
    "        if t1 > t2:\n",
    "            src = q1.popleft()\n",
    "            q2.append(src)\n",
    "            t1 -= src\n",
    "            t2 += src\n",
    "            answer += 1\n",
    "        \n",
    "        elif t1 < t2:\n",
    "            src = q2.popleft()\n",
    "            q1.append(src)\n",
    "            t1 += src\n",
    "            t2 -= src\n",
    "            answer += 1\n",
    "        \n",
    "        else:\n",
    "            break \n",
    "        \n",
    "        if answer == _max:\n",
    "            answer = -1 \n",
    "            break \n",
    "    \n",
    "    return answer"
   ]
  },
  {
   "cell_type": "markdown",
   "metadata": {},
   "source": [
    "### 연속된 부분 수열의 합"
   ]
  },
  {
   "cell_type": "code",
   "execution_count": null,
   "metadata": {},
   "outputs": [],
   "source": [
    "def solution(sequence, k):\n",
    "    index = 0\n",
    "    src = sequence[0]\n",
    "    answer = []\n",
    "    \n",
    "    for idx, seq in enumerate(sequence):\n",
    "        while src < k and index < len(sequence)-1:\n",
    "            index += 1\n",
    "            src += sequence[index]\n",
    "\n",
    "        if src == k:\n",
    "            answer.append([index-idx, [idx, index]])\n",
    "        src -= seq\n",
    "    answer.sort()\n",
    "    \n",
    "    return answer[0][1]"
   ]
  },
  {
   "cell_type": "markdown",
   "metadata": {},
   "source": [
    "### 메뉴 리뉴얼"
   ]
  },
  {
   "cell_type": "code",
   "execution_count": null,
   "metadata": {},
   "outputs": [],
   "source": [
    "from itertools import combinations\n",
    "from collections import Counter\n",
    "\n",
    "def solution(orders, course):\n",
    "    answer = []\n",
    "    for n in course:\n",
    "        candidates = []\n",
    "        for menu in orders:\n",
    "            for l in combinations(menu, n):\n",
    "                candidates.append(''.join(sorted(l)))\n",
    "                print(''.join(sorted(l)))\n",
    "                print(''.join(l), '\\n')\n",
    "        candidates = Counter(candidates).most_common()\n",
    "        if candidates != []:\n",
    "            target = candidates[0][1]        \n",
    "            candidate = [most_common for most_common, count in candidates if count > 1 and count == target]\n",
    "            answer.extend(candidate)\n",
    "    return sorted(answer)"
   ]
  },
  {
   "cell_type": "markdown",
   "metadata": {},
   "source": [
    "### 거리두기 확인하기"
   ]
  },
  {
   "cell_type": "code",
   "execution_count": null,
   "metadata": {},
   "outputs": [],
   "source": [
    "from collections import deque \n",
    "\n",
    "def start_point(place):\n",
    "    answer = []\n",
    "    for i in range(7):\n",
    "        for j in range(7):\n",
    "            if place[i][j] == 'P':\n",
    "                answer.append([i,j])\n",
    "    \n",
    "    return answer \n",
    "\n",
    "def solution(places):\n",
    "\n",
    "    answer = []\n",
    "    for place in places:\n",
    "        place = list(map(lambda x: ['O']*2 + list(x) + ['O']*2, place))\n",
    "        place = [['O'] * 9]*2 + place + [['O'] * 9]*2\n",
    "        ground_truth = start_point(place)\n",
    "        value = 1\n",
    "\n",
    "        if ground_truth == []:\n",
    "            answer.append(value)\n",
    "            continue\n",
    "        \n",
    "        for gt in ground_truth:\n",
    "            # row left\n",
    "            if place[gt[0]-1][gt[1]] == 'P':\n",
    "                value = 0\n",
    "                break\n",
    "            \n",
    "            elif place[gt[0]-1][gt[1]] == 'O':\n",
    "                values = [place[gt[0]-2][gt[1]], place[gt[0]-1][gt[1]+1], place[gt[0]-1][gt[1]-1]] \n",
    "                if 'P' in values:\n",
    "                    value = 0\n",
    "                    break\n",
    "            \n",
    "            # row right \n",
    "            if place[gt[0]+1][gt[1]] == 'P':\n",
    "                value = 0\n",
    "                break \n",
    "            \n",
    "            elif place[gt[0]+1][gt[1]] == 'O':\n",
    "                values = [place[gt[0]+2][gt[1]], place[gt[0]+1][gt[1]+1], place[gt[0]+1][gt[1]-1]] \n",
    "                if 'P' in values:\n",
    "                    value = 0\n",
    "                    break \n",
    "            \n",
    "            # col upper\n",
    "            if place[gt[0]][gt[1]-1] == 'P':\n",
    "                value = 0\n",
    "                break\n",
    "            \n",
    "            elif place[gt[0]][gt[1]-1] == 'O':\n",
    "                values = [place[gt[0]][gt[1]-2], place[gt[0]-1][gt[1]-1], place[gt[0]+1][gt[1]-1]]\n",
    "                if 'P' in values:\n",
    "                    value = 0\n",
    "            \n",
    "            # col lower \n",
    "            if place[gt[0]][gt[1]+1] == 'P':\n",
    "                value = 0\n",
    "                break\n",
    "            \n",
    "            elif place[gt[0]][gt[1]+1] == 'O':\n",
    "                values = [place[gt[0]][gt[1]+2], place[gt[0]-1][gt[1]+1], place[gt[0]+1][gt[1]+1]] \n",
    "                if 'P' in values:\n",
    "                    value = 0\n",
    "                \n",
    "        answer.append(value)\n",
    "        \n",
    "    return answer"
   ]
  },
  {
   "cell_type": "markdown",
   "metadata": {},
   "source": [
    "### 이모티콘 할인행사"
   ]
  },
  {
   "cell_type": "code",
   "execution_count": null,
   "metadata": {},
   "outputs": [],
   "source": [
    "from itertools import product\n",
    "\n",
    "def solution(users, emoticons):\n",
    "    emg_length = len(emoticons)\n",
    "    answer = [0, 0]\n",
    "    \n",
    "    for p in product([10, 20, 30, 40], repeat=emg_length):\n",
    "        emg_plus, money = 0, 0\n",
    "        \n",
    "        for i in range(len(users)):\n",
    "            total = 0 \n",
    "            for j in range(len(p)):\n",
    "                if users[i][0] <= p[j]:\n",
    "                    total += emoticons[j] * (100 - p[j]) * 0.01\n",
    "            \n",
    "            if total >= users[i][1]:\n",
    "                emg_plus += 1\n",
    "            \n",
    "            else:\n",
    "                money += total \n",
    "        \n",
    "        if answer[0] > emg_plus:\n",
    "            continue\n",
    "        \n",
    "        if answer[0] == emg_plus and answer[1] > money:\n",
    "            continue \n",
    "        \n",
    "        answer = [emg_plus, money]\n",
    "        \n",
    "    return answer"
   ]
  },
  {
   "cell_type": "code",
   "execution_count": null,
   "metadata": {},
   "outputs": [],
   "source": []
  }
 ],
 "metadata": {
  "language_info": {
   "name": "python"
  }
 },
 "nbformat": 4,
 "nbformat_minor": 2
}
