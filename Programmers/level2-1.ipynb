{
 "cells": [
  {
   "cell_type": "markdown",
   "metadata": {},
   "source": [
    "### 행렬의 곱셈"
   ]
  },
  {
   "cell_type": "code",
   "execution_count": 1,
   "metadata": {},
   "outputs": [],
   "source": [
    "import numpy as np \n",
    "def solution(arr1, arr2):\n",
    "    arr1 = np.array(arr1)\n",
    "    arr2 = np.array(arr2)\n",
    "    return arr1.dot(arr2).tolist()"
   ]
  },
  {
   "cell_type": "markdown",
   "metadata": {},
   "source": [
    "### 큰 수 만들기"
   ]
  },
  {
   "cell_type": "code",
   "execution_count": null,
   "metadata": {},
   "outputs": [],
   "source": [
    "def solution(s):\n",
    "    li = s.split()"
   ]
  },
  {
   "cell_type": "code",
   "execution_count": 88,
   "metadata": {},
   "outputs": [],
   "source": [
    "def solution(number, k):\n",
    "    n = list(number)\n",
    "\n",
    "    i = 0\n",
    "    ans = 0\n",
    "    while ans < k:\n",
    "        if n[i] > n[i+1]:\n",
    "            n.pop(i+1)\n",
    "            ans += 1\n",
    "        elif n[i] < n[i+1]:\n",
    "            n.pop(i)\n",
    "            if i != 0 : i -= 1\n",
    "            ans += 1\n",
    "\n",
    "        else:\n",
    "            i += 1\n",
    "    return ''.join(n)\n"
   ]
  },
  {
   "cell_type": "code",
   "execution_count": 14,
   "metadata": {},
   "outputs": [],
   "source": [
    "def solution(s):\n",
    "    li = list(map(int,s.split()))\n",
    "    mi = str(min(li))\n",
    "    ma = str(max(li))\n",
    "    answer = mi + ' ' + ma\n",
    "    return answer"
   ]
  },
  {
   "cell_type": "markdown",
   "metadata": {},
   "source": [
    "### 가장 큰 수 "
   ]
  },
  {
   "cell_type": "code",
   "execution_count": 9,
   "metadata": {},
   "outputs": [],
   "source": [
    "def solution(n):\n",
    "    n = [3, 30, 34, 5, 9]\n",
    "    n = [str(x) for x in n]\n",
    "    n.sort(reverse=True)\n",
    "    result = ''\n",
    "    for i in range(len(n)-1):\n",
    "        if n[i][-1] == '0':\n",
    "            a = n[i+1]\n",
    "            n[i+1] = n[i]\n",
    "            n[i] = a\n",
    "    for i in n: result += i\n",
    "    return result"
   ]
  },
  {
   "cell_type": "markdown",
   "metadata": {},
   "source": [
    "### N개의 최소 공배수"
   ]
  },
  {
   "cell_type": "code",
   "execution_count": 81,
   "metadata": {},
   "outputs": [],
   "source": [
    "from math import gcd \n",
    "def solution(arr):\n",
    "    while 1:\n",
    "        if len(arr) == 1:\n",
    "            break\n",
    "        arr[0] = arr[0] * arr[1] // gcd(arr[0], arr[1])\n",
    "        del arr[1]\n",
    "    return arr[0]"
   ]
  },
  {
   "cell_type": "markdown",
   "metadata": {},
   "source": [
    "### H-Index"
   ]
  },
  {
   "cell_type": "code",
   "execution_count": 82,
   "metadata": {},
   "outputs": [],
   "source": [
    "citation = [3, 0, 6, 1, 5]\n",
    "citation.sort(reverse=True)\n",
    "def solution(citation):\n",
    "    n = len(citation)\n",
    "    result = 0 \n",
    "    for i in range(n):\n",
    "        if i+1 <= citation[i]:\n",
    "            result = i + 1\n",
    "        else:\n",
    "            return result\n",
    "    return result"
   ]
  },
  {
   "cell_type": "markdown",
   "metadata": {},
   "source": [
    "## 다음 큰 숫자"
   ]
  },
  {
   "cell_type": "code",
   "execution_count": 87,
   "metadata": {},
   "outputs": [
    {
     "data": {
      "text/plain": [
       "4"
      ]
     },
     "execution_count": 87,
     "metadata": {},
     "output_type": "execute_result"
    }
   ],
   "source": [
    "# 다음 큰 숫자\n",
    "# bin : 이진수\n",
    "# oct : 8진수\n",
    "# hex : 16진수\n",
    "\n",
    "def solution(n):\n",
    "    result = n\n",
    "    while 1:\n",
    "        n1 = bin(n).count('1')\n",
    "        result += 1\n",
    "        n2 = bin(result).count('1')\n",
    "        if n1 == n2:\n",
    "            return result"
   ]
  },
  {
   "cell_type": "markdown",
   "metadata": {},
   "source": [
    "### 숫자의 표현"
   ]
  },
  {
   "cell_type": "code",
   "execution_count": 94,
   "metadata": {},
   "outputs": [],
   "source": [
    "def solution(n):\n",
    "    answer = []\n",
    "    for i in range(1,n+1):\n",
    "        result = 0\n",
    "        num = i\n",
    "        while 1:\n",
    "            result += num\n",
    "            if result >= n:\n",
    "                answer.append(result)\n",
    "                break\n",
    "            num += 1\n",
    "    return answer.count(n)"
   ]
  },
  {
   "cell_type": "markdown",
   "metadata": {},
   "source": [
    "### 최솟값 만들기"
   ]
  },
  {
   "cell_type": "code",
   "execution_count": 140,
   "metadata": {},
   "outputs": [],
   "source": [
    "def solution(a, b):\n",
    "    a.sort()\n",
    "    b.sort(reverse=True)\n",
    "    result = 0\n",
    "    for i in range(len(a)):\n",
    "        result += a[i] * b[i]\n",
    "    return result\n",
    "\n",
    "# 2\n",
    "sum(a*b for a, b in zip(sorted(a), sorted(b, reverse=True)))"
   ]
  },
  {
   "cell_type": "markdown",
   "metadata": {},
   "source": [
    "### 올바른 괄호"
   ]
  },
  {
   "cell_type": "code",
   "execution_count": 15,
   "metadata": {},
   "outputs": [],
   "source": [
    "from collections import deque\n",
    "def solution(s):\n",
    "    answer = True\n",
    "    q = deque()\n",
    "\n",
    "    for i in s:\n",
    "        if i=='(':\n",
    "            q.append(i)\n",
    "        else:\n",
    "            if len(q)==0 or q.pop()==')':\n",
    "                return False\n",
    "\n",
    "    if len(q)!=0:\n",
    "        return False\n",
    "    \n",
    "    return True\n",
    " "
   ]
  },
  {
   "cell_type": "markdown",
   "metadata": {},
   "source": [
    "### 짝지어 제거하기"
   ]
  },
  {
   "cell_type": "code",
   "execution_count": 100,
   "metadata": {},
   "outputs": [],
   "source": [
    "def solution(s):\n",
    "    i = 0\n",
    "    while i < len(s) -1:\n",
    "        if s[i] == s[i+1]:\n",
    "            s = s[0:i] + s[i+2:]\n",
    "            i = 0\n",
    "        else:\n",
    "            i += 1\n",
    "    if s == '': return 1 \n",
    "    else : return 0"
   ]
  },
  {
   "cell_type": "code",
   "execution_count": 95,
   "metadata": {},
   "outputs": [],
   "source": [
    "# stack\n",
    "def solution(s): \n",
    "    stack = []\n",
    "    for i in s:\n",
    "        if len(stack) == 0: stack.append(i)\n",
    "        elif stack[-1] == i: stack.pop()\n",
    "        else: stack.append(i)\n",
    "    if len(stack) == 0: return 1\n",
    "    else: return 0 "
   ]
  },
  {
   "cell_type": "markdown",
   "metadata": {},
   "source": [
    "### 방문 길이"
   ]
  },
  {
   "cell_type": "code",
   "execution_count": 12,
   "metadata": {},
   "outputs": [
    {
     "data": {
      "text/plain": [
       "(-1, 2)"
      ]
     },
     "execution_count": 12,
     "metadata": {},
     "output_type": "execute_result"
    }
   ],
   "source": [
    "dir = \"ULURRDLLU\"\n",
    "dir_set = list(set(dir))\n",
    "dic = dict({})\n",
    "\n",
    "for idx in dir:\n",
    "    dic[idx] = dir.count(idx)\n",
    "\n",
    "# R = L / U = D\n",
    "\n",
    "x = dic['R'] - dic['L']\n",
    "y = dic['U'] - dic['D']\n",
    "\n",
    "x,y "
   ]
  },
  {
   "cell_type": "markdown",
   "metadata": {},
   "source": [
    "### 소수 찾기"
   ]
  },
  {
   "cell_type": "code",
   "execution_count": 9,
   "metadata": {},
   "outputs": [],
   "source": [
    "from itertools import permutations\n",
    "def solution(numbers):\n",
    "    li = []\n",
    "    for i in range(len(numbers)):\n",
    "        a = list(permutations(numbers, i+1))\n",
    "        li.extend([''.join(x) for x in a if int(''.join(x)) not in [0,1]])\n",
    "    li = list(set(map(int,li)))\n",
    "\n",
    "\n",
    "    def isprime(num):\n",
    "        if num == 1 : return False\n",
    "        n = int(num**(1/2))\n",
    "        for i in range(2,n+1):\n",
    "            if num % i == 0 : return False \n",
    "        return True\n",
    "    ans = 0 \n",
    "    for idx in li:\n",
    "        if isprime(idx): ans += 1\n",
    "    return ans"
   ]
  },
  {
   "cell_type": "markdown",
   "metadata": {},
   "source": [
    "### 피보나치 수"
   ]
  },
  {
   "cell_type": "code",
   "execution_count": null,
   "metadata": {},
   "outputs": [],
   "source": [
    "def solution(n):\n",
    "    a, b = 0, 1\n",
    "    \n",
    "    for i in range(n):\n",
    "        a, b = b, a + b\n",
    "        \n",
    "    return a % 1234567"
   ]
  },
  {
   "cell_type": "markdown",
   "metadata": {},
   "source": [
    "### JadenCase 문자열 만들기"
   ]
  },
  {
   "cell_type": "code",
   "execution_count": null,
   "metadata": {},
   "outputs": [],
   "source": [
    "def solution(s):\n",
    "    answer = ''\n",
    "    j = 0\n",
    "    for i in s:\n",
    "        if i == ' ':\n",
    "            j = 0\n",
    "            answer += ' '\n",
    "            continue\n",
    "\n",
    "        if j == 0:\n",
    "            if i.isnumeric():\n",
    "                answer += i\n",
    "            else:\n",
    "                answer += i.upper()\n",
    "            j += 1\n",
    "\n",
    "        else:\n",
    "            answer += i.lower()\n",
    "            j += 1\n",
    "\n",
    "    return answer"
   ]
  },
  {
   "cell_type": "code",
   "execution_count": null,
   "metadata": {},
   "outputs": [],
   "source": []
  },
  {
   "cell_type": "code",
   "execution_count": null,
   "metadata": {},
   "outputs": [],
   "source": []
  },
  {
   "cell_type": "code",
   "execution_count": null,
   "metadata": {},
   "outputs": [],
   "source": []
  },
  {
   "cell_type": "code",
   "execution_count": null,
   "metadata": {},
   "outputs": [],
   "source": []
  }
 ],
 "metadata": {
  "interpreter": {
   "hash": "9a957a1fea41707a244f264f295721eb09ec21d5be06b513cdb5f37b29d60cc5"
  },
  "kernelspec": {
   "display_name": "Python 3.9.2 64-bit ('geo': conda)",
   "name": "python3"
  },
  "language_info": {
   "codemirror_mode": {
    "name": "ipython",
    "version": 3
   },
   "file_extension": ".py",
   "mimetype": "text/x-python",
   "name": "python",
   "nbconvert_exporter": "python",
   "pygments_lexer": "ipython3",
   "version": "3.8.5"
  },
  "orig_nbformat": 4
 },
 "nbformat": 4,
 "nbformat_minor": 2
}
