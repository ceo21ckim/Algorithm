{
 "cells": [
  {
   "cell_type": "markdown",
   "metadata": {},
   "source": [
    "### 로또의 최고 순위와 최저 순위"
   ]
  },
  {
   "cell_type": "code",
   "execution_count": 24,
   "metadata": {},
   "outputs": [],
   "source": [
    "def solution(lottos, win_nums):\n",
    "    masking = lottos.count(0)\n",
    "    count = 0\n",
    "    for idx in lottos:\n",
    "        if idx in win_nums:\n",
    "            count += 1\n",
    "    high_rank = (6 if (7 - count - masking) >= 6 else 7 - count - masking)\n",
    "    low_rank = (6 if (7 - count >= 6) else 7 - count)\n",
    "    answer = [high_rank, low_rank]\n",
    "    return answer"
   ]
  },
  {
   "cell_type": "markdown",
   "metadata": {},
   "source": [
    "### 신규 아이디 추천"
   ]
  },
  {
   "cell_type": "code",
   "execution_count": 229,
   "metadata": {},
   "outputs": [],
   "source": [
    "import re \n",
    "def solution(new_id):\n",
    "    # 1\n",
    "    new_id = new_id.lower()\n",
    "    # 2\n",
    "    new_id = re.sub('[^0-9a-z\\-\\_\\.]+','',new_id)\n",
    "    new_id = list(new_id)   \n",
    "    #3\n",
    "    for i in range(len(new_id)-1, -1, -1):\n",
    "        if i != 0:\n",
    "            if (new_id[i] == '.') & (new_id[i] == new_id[i-1]):\n",
    "                new_id.pop(i)\n",
    "    # 4\n",
    "    if new_id[-1] == '.':\n",
    "        new_id.pop(-1)\n",
    "    if new_id == []:\n",
    "        pass\n",
    "    else:\n",
    "        if new_id[0] == '.':\n",
    "            new_id.pop(0)\n",
    "    # 5\n",
    "    if new_id == [] :\n",
    "        new_id.append('a')\n",
    "    # 6\n",
    "    if len(new_id) >= 16:\n",
    "        new_id = new_id[:15]\n",
    "        if new_id[-1] == '.':\n",
    "            new_id.pop(-1)         \n",
    "    # 7 \n",
    "    if len(new_id) <= 2:\n",
    "        while len(new_id) < 3:\n",
    "            new_id += new_id[-1]\n",
    "    answer = ''.join(new_id)\n",
    "    return answer"
   ]
  },
  {
   "cell_type": "markdown",
   "metadata": {},
   "source": [
    "### 숫자 문자열과 영단어"
   ]
  },
  {
   "cell_type": "code",
   "execution_count": 268,
   "metadata": {},
   "outputs": [],
   "source": [
    "def solution(s):\n",
    "    num = ['0', '1', '2', '3', '4', '5', '6', '7', '8', '9']\n",
    "    word = ['zero', 'one', 'two', 'three', 'four', 'five', 'six', 'seven', 'eight', 'nine']\n",
    "    vocab = dict(zip(num, word))\n",
    "    for key, value in vocab.items():\n",
    "        if value in s:\n",
    "            s = s.replace(value, key)\n",
    "    return int(s)"
   ]
  },
  {
   "cell_type": "markdown",
   "metadata": {},
   "source": [
    "### 숫자 문자열과 영단어 (2)"
   ]
  },
  {
   "cell_type": "code",
   "execution_count": 275,
   "metadata": {},
   "outputs": [],
   "source": [
    "def solution(s):\n",
    "    value = ['zero', 'one', 'two', 'three', 'four', 'five', 'six', 'seven', 'eight', 'nine']\n",
    "    for num, word in enumerate(value):\n",
    "        if word in s:\n",
    "            s = s.replace(word, str(num))\n",
    "    return int(s)"
   ]
  },
  {
   "cell_type": "code",
   "execution_count": null,
   "metadata": {},
   "outputs": [],
   "source": [
    "def solution(numbers, hand):\n",
    "    left, right = [1, 3, 7], [3, 6, 9]\n",
    "    \n",
    "    answer = ''\n",
    "    return answer"
   ]
  },
  {
   "cell_type": "code",
   "execution_count": 321,
   "metadata": {},
   "outputs": [],
   "source": [
    "def solution(numbers, hand):\n",
    "    answer = ''\n",
    "    for i in range(len(numbers)):\n",
    "        if i != len(numbers)-1 :\n",
    "            if numbers[i] % 3 == 0 :\n",
    "                answer += 'R'\n",
    "                right = numbers[i]\n",
    "            elif numbers[i] in [1, 4, 7]:\n",
    "                answer += 'L'\n",
    "                left = numbers[i]\n",
    "            elif (abs(numbers[i]-left)) < (abs(numbers[i] - right)):\n",
    "                answer += 'L'\n",
    "            elif (abs(numbers[i]-left)) > (abs(numbers[i] - right)):\n",
    "                answer += 'R'\n",
    "            else:\n",
    "                if hand == 'right':\n",
    "                    answer += 'R'\n",
    "                else:\n",
    "                    answer += 'L'\n",
    "    return answer\n"
   ]
  },
  {
   "cell_type": "markdown",
   "metadata": {},
   "source": [
    "### 내적"
   ]
  },
  {
   "cell_type": "code",
   "execution_count": 4,
   "metadata": {},
   "outputs": [
    {
     "data": {
      "text/plain": [
       "3"
      ]
     },
     "execution_count": 4,
     "metadata": {},
     "output_type": "execute_result"
    }
   ],
   "source": [
    "# 1\n",
    "import numpy as np \n",
    "def solution(a, b):\n",
    "    answer = np.sum(np.array(a) * np.array(b))\n",
    "    return int(answer)\n",
    "\n",
    "# 2\n",
    "def solution(a, b):\n",
    "    return sum([a[i] * b[i] for i in range(len(a))])\n",
    "\n",
    "# 3\n",
    "def solution(a, b):\n",
    "    return sum([x * y for x, y in zip(a, b)])"
   ]
  },
  {
   "cell_type": "markdown",
   "metadata": {},
   "source": [
    "### 음양 더하기"
   ]
  },
  {
   "cell_type": "code",
   "execution_count": 28,
   "metadata": {},
   "outputs": [
    {
     "name": "stdout",
     "output_type": "stream",
     "text": [
      "4\n",
      "-3\n",
      "9\n"
     ]
    }
   ],
   "source": [
    "def solution(absolutes, signs):\n",
    "    answer = 0\n",
    "    for x, y in zip(absolutes, signs):\n",
    "        if y == True:\n",
    "            answer += x \n",
    "        elif y == False:\n",
    "            answer -= x\n",
    "    return answer"
   ]
  },
  {
   "cell_type": "markdown",
   "metadata": {},
   "source": [
    "### K번째 수"
   ]
  },
  {
   "cell_type": "code",
   "execution_count": 27,
   "metadata": {},
   "outputs": [
    {
     "data": {
      "text/plain": [
       "9"
      ]
     },
     "execution_count": 27,
     "metadata": {},
     "output_type": "execute_result"
    }
   ],
   "source": [
    "def solution(array, commands):\n",
    "    answer = []\n",
    "    for com in commands:\n",
    "        i, j, k = com\n",
    "        answer += [sorted(array[i-1:j])[k-1]]\n",
    "    return answer"
   ]
  },
  {
   "cell_type": "markdown",
   "metadata": {},
   "source": [
    "### 예산"
   ]
  },
  {
   "cell_type": "code",
   "execution_count": 51,
   "metadata": {},
   "outputs": [],
   "source": [
    "def solution(d, budget):\n",
    "    d.sort()\n",
    "    result = []\n",
    "    for idx in d:\n",
    "        if sum(result)+idx <= budget:\n",
    "            result += [idx]\n",
    "            print(result)\n",
    "    return len(result)\n"
   ]
  },
  {
   "cell_type": "markdown",
   "metadata": {},
   "source": [
    "### 두 개 뽑아서 더하기"
   ]
  },
  {
   "cell_type": "code",
   "execution_count": 99,
   "metadata": {},
   "outputs": [],
   "source": [
    "def solution(numbers):\n",
    "    answer = []\n",
    "    for i in range(len(numbers)):\n",
    "        for j in range(len(numbers)):\n",
    "            if i != j :\n",
    "                answer.append(numbers[i] + numbers[j])\n",
    "    answer = list(set(answer))\n",
    "    answer = sorted(answer)\n",
    "    return answer"
   ]
  },
  {
   "cell_type": "markdown",
   "metadata": {},
   "source": [
    "### 문자열 내 p와 y의 개수"
   ]
  },
  {
   "cell_type": "code",
   "execution_count": 4,
   "metadata": {},
   "outputs": [
    {
     "name": "stdout",
     "output_type": "stream",
     "text": [
      "2 2\n"
     ]
    }
   ],
   "source": [
    "def solution(s):\n",
    "    s = s.lower()\n",
    "    if s.count('p') == s.count('y'):\n",
    "        return True\n",
    "    else:\n",
    "        return False"
   ]
  },
  {
   "cell_type": "markdown",
   "metadata": {},
   "source": [
    "### 약수의 개수와 덧셈"
   ]
  },
  {
   "cell_type": "code",
   "execution_count": null,
   "metadata": {},
   "outputs": [],
   "source": [
    "def solution(left, right):\n",
    "    answer = 0\n",
    "    for num in range(left, right+1):\n",
    "        count = 0 \n",
    "        for i in range(1, num+1):\n",
    "            if num % i == 0 :\n",
    "                count += 1\n",
    "        if count % 2 == 0 :\n",
    "            answer += num\n",
    "        else:\n",
    "            answer -= num\n",
    "    return answer"
   ]
  },
  {
   "cell_type": "markdown",
   "metadata": {},
   "source": [
    "### 문자열을 정수로 바꾸기"
   ]
  },
  {
   "cell_type": "code",
   "execution_count": 8,
   "metadata": {},
   "outputs": [
    {
     "data": {
      "text/plain": [
       "-1234"
      ]
     },
     "execution_count": 8,
     "metadata": {},
     "output_type": "execute_result"
    }
   ],
   "source": [
    "def solution(s):\n",
    "    answer = int(s)\n",
    "    return answer"
   ]
  },
  {
   "cell_type": "markdown",
   "metadata": {},
   "source": [
    "### 가운데 글자 가져오기"
   ]
  },
  {
   "cell_type": "code",
   "execution_count": 9,
   "metadata": {},
   "outputs": [
    {
     "data": {
      "text/plain": [
       "3"
      ]
     },
     "execution_count": 9,
     "metadata": {},
     "output_type": "execute_result"
    }
   ],
   "source": [
    "def solution(s):\n",
    "    center = int(len(s) / 2)\n",
    "    if len(s) % 2 == 0:\n",
    "        answer = s[center-1] + s[center]\n",
    "    else:\n",
    "        answer = s[center]\n",
    "    return answer"
   ]
  },
  {
   "cell_type": "markdown",
   "metadata": {},
   "source": [
    "### 약수의 합"
   ]
  },
  {
   "cell_type": "code",
   "execution_count": 12,
   "metadata": {},
   "outputs": [
    {
     "data": {
      "text/plain": [
       "1"
      ]
     },
     "execution_count": 12,
     "metadata": {},
     "output_type": "execute_result"
    }
   ],
   "source": [
    "# 1\n",
    "def solution(n):\n",
    "    answer = 0\n",
    "    for idx in range(1,n+1):\n",
    "        if n % idx == 0:\n",
    "            answer += idx\n",
    "    return answer\n",
    "\n",
    "\n",
    "# 2\n",
    "def solution(n):\n",
    "    return sum([idx for idx in range(1,n+1) if n % idx == 0 ])"
   ]
  },
  {
   "cell_type": "code",
   "execution_count": 23,
   "metadata": {},
   "outputs": [
    {
     "data": {
      "text/plain": [
       "[1, 3, 0, 1]"
      ]
     },
     "execution_count": 23,
     "metadata": {},
     "output_type": "execute_result"
    }
   ],
   "source": [
    "def solution(arr):\n",
    "    drop_list = []\n",
    "    for i in range(len(arr)-1):\n",
    "        if arr[i] == arr[i+1]:\n",
    "            drop_list.append(i)\n",
    "    for drop in drop_list[::-1]:\n",
    "        arr.pop(drop)\n",
    "    return arr"
   ]
  },
  {
   "cell_type": "markdown",
   "metadata": {},
   "source": [
    "### 체육복"
   ]
  },
  {
   "cell_type": "code",
   "execution_count": 9,
   "metadata": {},
   "outputs": [],
   "source": [
    "def solution(n, lost, reserve):\n",
    "    answer = n - len(lost)\n",
    "    for i in range(len(reserve)):\n",
    "        if lost == []:\n",
    "            break \n",
    "        if reserve[i] in lost:\n",
    "            lost.remove(reserve[i])\n",
    "            answer += 1\n",
    "        elif reserve[i]-1 in lost:\n",
    "            lost.remove(reserve[i]-1)\n",
    "            answer += 1\n",
    "        elif reserve[i]+1 in lost:\n",
    "            lost.remove(reserve[i]+1)\n",
    "            answer += 1\n",
    "    return answer\n"
   ]
  },
  {
   "cell_type": "markdown",
   "metadata": {},
   "source": [
    "### 부족한 금액 계산하기"
   ]
  },
  {
   "cell_type": "code",
   "execution_count": 69,
   "metadata": {},
   "outputs": [
    {
     "data": {
      "text/plain": [
       "10"
      ]
     },
     "execution_count": 69,
     "metadata": {},
     "output_type": "execute_result"
    }
   ],
   "source": [
    "# 이용료 price\n",
    "# 놀이기구 N 번 이용시 price * N\n",
    "# e.g. 처음 이용 100, 두번째 200, 세번째 300\n",
    "# 놀이기구 count 번 타게 되면 현재 금액에서 얼마나 모자란가?\n",
    "\n",
    "def solution(price, money, count):\n",
    "    result = 0\n",
    "    for n in range(1, count+1):\n",
    "        result += price * n\n",
    "    if result <= money :\n",
    "        return 0\n",
    "    else:\n",
    "        return int(result - money)\n"
   ]
  },
  {
   "cell_type": "markdown",
   "metadata": {},
   "source": [
    "### 상호 평가"
   ]
  },
  {
   "cell_type": "code",
   "execution_count": 24,
   "metadata": {},
   "outputs": [
    {
     "name": "stdout",
     "output_type": "stream",
     "text": [
      "[45.5] #2\n",
      "[45.5, 81.25] #2\n",
      "[45.5, 81.25, 97.75] #2\n",
      "[45.5, 81.25, 97.75, 82.0] #2\n",
      "[45.5, 81.25, 97.75, 82.0, 67.8] #1\n"
     ]
    },
    {
     "data": {
      "text/plain": [
       "'FBABD'"
      ]
     },
     "execution_count": 24,
     "metadata": {},
     "output_type": "execute_result"
    }
   ],
   "source": [
    "import numpy as np \n",
    "scores = np.array([[100,90,98,88,65],[50,45,99,85,77],[47,88,95,80,67],[61,57,100,80,65],[24,90,94,75,65]]).T.tolist()\n",
    "\n",
    "import numpy as np\n",
    "def solution(scores):\n",
    "    scores = np.array(scores).T.tolist()\n",
    "    result = []\n",
    "    answer = ''\n",
    "    for i in range(len(scores)):\n",
    "        if (scores[i][i] == min(scores[i])) and (scores[i].count(scores[i][i]) != 1) :\n",
    "            result += [sum(scores[i]) / 5]\n",
    "        else:\n",
    "            result += [(sum(scores[i]) -scores[i][i]) / 4]\n",
    "    for idx in result:\n",
    "        if idx >= 90 :\n",
    "            answer += 'A'\n",
    "        elif idx >=80 :\n",
    "            answer += 'B'\n",
    "        elif idx >= 70 :\n",
    "            answer += 'C'\n",
    "        elif idx >= 50 :\n",
    "            answer += 'D'\n",
    "        elif idx < 50 :\n",
    "            answer += 'F'\n",
    "    return answer \n",
    "answer"
   ]
  },
  {
   "cell_type": "markdown",
   "metadata": {},
   "source": [
    "### 문자열 다루기 기본"
   ]
  },
  {
   "cell_type": "code",
   "execution_count": null,
   "metadata": {},
   "outputs": [],
   "source": [
    "def solution(s):\n",
    "    if (len(s) ==4) or (len(s)==6):\n",
    "        try :\n",
    "            int(s)\n",
    "            return True\n",
    "        except:\n",
    "            return False\n",
    "    else:\n",
    "        return False\n"
   ]
  },
  {
   "cell_type": "markdown",
   "metadata": {},
   "source": [
    "### 행렬의 덧셈\n"
   ]
  },
  {
   "cell_type": "code",
   "execution_count": 26,
   "metadata": {},
   "outputs": [],
   "source": [
    "# 1\n",
    "import numpy as np \n",
    "def solution(arr1, arr2):\n",
    "    return np.array(arr1) + np.array(arr2)\n",
    "\n",
    "\n",
    "# 2\n",
    "\n",
    "def solution(arr1, arr2):\n",
    "    return [[k + g for k,g in zip(i,j)] for i,j in zip(arr1, arr2)]"
   ]
  },
  {
   "cell_type": "markdown",
   "metadata": {},
   "source": [
    "### 최대공약수와 최소공배수"
   ]
  },
  {
   "cell_type": "code",
   "execution_count": 39,
   "metadata": {},
   "outputs": [
    {
     "data": {
      "text/plain": [
       "3"
      ]
     },
     "execution_count": 39,
     "metadata": {},
     "output_type": "execute_result"
    }
   ],
   "source": [
    "import math \n",
    "def solution(n,m):\n",
    "    li = math.gcd(n, m)\n",
    "    return [li, m * n // li]\n"
   ]
  },
  {
   "cell_type": "markdown",
   "metadata": {},
   "source": [
    "### 핸드폰 번호 가리기"
   ]
  },
  {
   "cell_type": "code",
   "execution_count": null,
   "metadata": {},
   "outputs": [],
   "source": [
    "def solution(pn):\n",
    "    return '*' * (len(pn)-4) + pn[-4:]"
   ]
  },
  {
   "cell_type": "code",
   "execution_count": 54,
   "metadata": {},
   "outputs": [
    {
     "name": "stdout",
     "output_type": "stream",
     "text": [
      "121\n"
     ]
    }
   ],
   "source": [
    "def solution(n):\n",
    "    if n**(1/2) == (n / int(n**(1/2))) :\n",
    "        return pow(int(n**(1/2)) + 1,2)\n",
    "    else:\n",
    "        return -1"
   ]
  },
  {
   "cell_type": "markdown",
   "metadata": {},
   "source": [
    "### x만큼 간격이 있는 n개의 숫자"
   ]
  },
  {
   "cell_type": "code",
   "execution_count": 53,
   "metadata": {},
   "outputs": [
    {
     "data": {
      "text/plain": [
       "1"
      ]
     },
     "execution_count": 53,
     "metadata": {},
     "output_type": "execute_result"
    }
   ],
   "source": [
    "def solution(x, n):\n",
    "    answer = []\n",
    "    for i in range(1, n+1):\n",
    "        answer += [i*x]\n",
    "    return answer"
   ]
  },
  {
   "cell_type": "markdown",
   "metadata": {},
   "source": [
    "### 짝수와 홀수"
   ]
  },
  {
   "cell_type": "code",
   "execution_count": null,
   "metadata": {},
   "outputs": [],
   "source": [
    "def solution(n):\n",
    "    if n % 2 == 0 :\n",
    "        return 'Even'\n",
    "    else:\n",
    "        return 'Odd'"
   ]
  },
  {
   "cell_type": "markdown",
   "metadata": {},
   "source": [
    "### 하샤드 수 "
   ]
  },
  {
   "cell_type": "code",
   "execution_count": 59,
   "metadata": {},
   "outputs": [
    {
     "data": {
      "text/plain": [
       "False"
      ]
     },
     "execution_count": 59,
     "metadata": {},
     "output_type": "execute_result"
    }
   ],
   "source": [
    "def solution(x):\n",
    "    x = str(x)\n",
    "    total = 0\n",
    "    for i in x:\n",
    "        total += int(i)\n",
    "\n",
    "    if int(x) % total == 0 :\n",
    "        return True \n",
    "    else:\n",
    "        return False\n"
   ]
  },
  {
   "cell_type": "markdown",
   "metadata": {},
   "source": [
    "### 직사각형 별찍기"
   ]
  },
  {
   "cell_type": "code",
   "execution_count": null,
   "metadata": {},
   "outputs": [],
   "source": [
    "# 1\n",
    "a, b = map(int, input().strip().split(' '))\n",
    "for _ in range(b):\n",
    "    print('*' * a)\n",
    "\n",
    "\n",
    "# 2\n",
    "answer = ('*' * a + '\\n') * b\n",
    "print(answer)"
   ]
  },
  {
   "cell_type": "markdown",
   "metadata": {},
   "source": [
    "### 제일 작은 수 제거하기"
   ]
  },
  {
   "cell_type": "code",
   "execution_count": 65,
   "metadata": {},
   "outputs": [],
   "source": [
    "def solution(arr):\n",
    "    if len(arr) != 1:\n",
    "        arr.remove(min(arr))\n",
    "        return arr\n",
    "    else:\n",
    "        return [-1]\n",
    "    "
   ]
  },
  {
   "cell_type": "markdown",
   "metadata": {},
   "source": [
    "### 자연수 뒤집어 배열로 만들기"
   ]
  },
  {
   "cell_type": "code",
   "execution_count": null,
   "metadata": {},
   "outputs": [],
   "source": [
    "# 1\n",
    "def solution(n):\n",
    "    n = str(n)\n",
    "    return [int(i) for i in n[::-1]]\n",
    "\n",
    "# 2\n",
    "def solution(n):\n",
    "    return [int(i) for i in str(n)[::-1]]"
   ]
  },
  {
   "cell_type": "markdown",
   "metadata": {},
   "source": [
    "### 정수 내림차순으로 배치하기"
   ]
  },
  {
   "cell_type": "code",
   "execution_count": 85,
   "metadata": {},
   "outputs": [],
   "source": [
    "# 1\n",
    "def solution(n):\n",
    "    li = sorted([i for i in str(n)])\n",
    "    return int(''.join(li)[::-1])\n",
    "\n",
    "\n",
    "# 2\n",
    "def solution(n):\n",
    "    li = [str(n)]\n",
    "    li.sort(reverse=True)\n",
    "    return int(''.join(li))"
   ]
  },
  {
   "cell_type": "markdown",
   "metadata": {},
   "source": [
    "### 콜라츠 추측"
   ]
  },
  {
   "cell_type": "code",
   "execution_count": null,
   "metadata": {},
   "outputs": [],
   "source": [
    "def solution(n):\n",
    "    count = 0 \n",
    "    while count <= 500 :\n",
    "        if n == 1:\n",
    "            return count\n",
    "        if n % 2 == 0 :\n",
    "            n //= 2\n",
    "            count += 1\n",
    "        else:\n",
    "            n *= 3\n",
    "            n += 1\n",
    "            count += 1\n",
    "    return -1"
   ]
  },
  {
   "cell_type": "markdown",
   "metadata": {},
   "source": [
    "### 이상한 문자 만들기"
   ]
  },
  {
   "cell_type": "code",
   "execution_count": 98,
   "metadata": {},
   "outputs": [],
   "source": [
    "s = 'try hello world'\n",
    "def solution(s):\n",
    "    li = s.split(' ')\n",
    "    answer = []\n",
    "    for idx in li:\n",
    "        st = ''\n",
    "        for i in range(len(idx)):\n",
    "            if i % 2 == 0 :\n",
    "                st += idx[i].upper()\n",
    "            else:\n",
    "                st += idx[i].lower()\n",
    "        answer += [st]\n",
    "    return ' '.join(answer)"
   ]
  },
  {
   "cell_type": "markdown",
   "metadata": {},
   "source": [
    "### 자릿수 더하기"
   ]
  },
  {
   "cell_type": "code",
   "execution_count": 106,
   "metadata": {},
   "outputs": [
    {
     "data": {
      "text/plain": [
       "'FdEfMlIfMdFfNa A'"
      ]
     },
     "execution_count": 106,
     "metadata": {},
     "output_type": "execute_result"
    }
   ],
   "source": [
    "def solution(n):\n",
    "    return sum([int(i) for i in str(n)])\n"
   ]
  },
  {
   "cell_type": "markdown",
   "metadata": {},
   "source": [
    "### 수박수박수박수박수박수?"
   ]
  },
  {
   "cell_type": "code",
   "execution_count": null,
   "metadata": {},
   "outputs": [],
   "source": [
    "def solution(n):\n",
    "    li = '수박'*n \n",
    "    return li[:n]"
   ]
  },
  {
   "cell_type": "markdown",
   "metadata": {},
   "source": [
    "### 나누어 떨어지는 숫자 배열"
   ]
  },
  {
   "cell_type": "code",
   "execution_count": null,
   "metadata": {},
   "outputs": [],
   "source": [
    "def solution(arr, divisor):\n",
    "    answer = []\n",
    "    for idx in arr:\n",
    "        if idx % divisor == 0 :\n",
    "            answer += [idx]\n",
    "    if answer == []:\n",
    "        return [-1]\n",
    "    else:\n",
    "        return sorted(answer)"
   ]
  },
  {
   "cell_type": "markdown",
   "metadata": {},
   "source": [
    "### 문자열 내림차순으로 배치하기"
   ]
  },
  {
   "cell_type": "code",
   "execution_count": null,
   "metadata": {},
   "outputs": [],
   "source": [
    "def solution(s):\n",
    "    answer = sorted(list(s), reverse = True )\n",
    "    return ''.join(answer)"
   ]
  },
  {
   "cell_type": "markdown",
   "metadata": {},
   "source": [
    "### 서울에서 김서방 찾기"
   ]
  },
  {
   "cell_type": "code",
   "execution_count": 121,
   "metadata": {},
   "outputs": [],
   "source": [
    "def solution(seoul):\n",
    "    for i, j in enumerate(seoul):\n",
    "        if j == 'Kim':\n",
    "            return f'김서방은 {i}에 있다'"
   ]
  },
  {
   "cell_type": "markdown",
   "metadata": {},
   "source": [
    "### 폰켓몬"
   ]
  },
  {
   "cell_type": "code",
   "execution_count": 130,
   "metadata": {},
   "outputs": [
    {
     "data": {
      "text/plain": [
       "3"
      ]
     },
     "execution_count": 130,
     "metadata": {},
     "output_type": "execute_result"
    }
   ],
   "source": [
    "def solution(nums):\n",
    "    return min(len(nums)//2, len(set(nums)))"
   ]
  },
  {
   "cell_type": "markdown",
   "metadata": {},
   "source": [
    "### 4주차"
   ]
  },
  {
   "cell_type": "code",
   "execution_count": 169,
   "metadata": {},
   "outputs": [
    {
     "data": {
      "text/plain": [
       "[['SI', 'JAVA', 'JAVASCRIPT', 'SQL', 'PYTHON', 'C#'],\n",
       " ['CONTENTS', 'JAVASCRIPT', 'JAVA', 'PYTHON', 'SQL', 'C++'],\n",
       " ['HARDWARE', 'C', 'C++', 'PYTHON', 'JAVA', 'JAVASCRIPT'],\n",
       " ['PORTAL', 'JAVA', 'JAVASCRIPT', 'PYTHON', 'KOTLIN', 'PHP'],\n",
       " ['GAME', 'C++', 'C#', 'JAVASCRIPT', 'C', 'JAVA']]"
      ]
     },
     "execution_count": 169,
     "metadata": {},
     "output_type": "execute_result"
    }
   ],
   "source": [
    "table = [\"SI JAVA JAVASCRIPT SQL PYTHON C#\", \"CONTENTS JAVASCRIPT JAVA PYTHON SQL C++\", \"HARDWARE C C++ PYTHON JAVA JAVASCRIPT\", \"PORTAL JAVA JAVASCRIPT PYTHON KOTLIN PHP\", \"GAME C++ C# JAVASCRIPT C JAVA\"]\n",
    "re = list(map(lambda x: x.split(), table))\n",
    "re"
   ]
  },
  {
   "cell_type": "markdown",
   "metadata": {},
   "source": [
    "### 문자열 내 마음대로 정렬하기"
   ]
  },
  {
   "cell_type": "code",
   "execution_count": 7,
   "metadata": {},
   "outputs": [],
   "source": [
    "string = ['sun', 'bed', 'car']    \n",
    "string.sort(key = lambda x : x[1])\n",
    "\n",
    "\n",
    "def solution(strings, n):\n",
    "    strings.sort(key = lambda x: x[n:n+1])\n",
    "    return strings"
   ]
  },
  {
   "cell_type": "markdown",
   "metadata": {},
   "source": [
    "### 같은 숫자는 싫어"
   ]
  },
  {
   "cell_type": "code",
   "execution_count": 9,
   "metadata": {},
   "outputs": [],
   "source": [
    "def solution(arr):\n",
    "    answer = []\n",
    "    for i in range(len(arr)-1):\n",
    "        if arr[i] != arr[i+1]:\n",
    "            answer.append(arr[i])\n",
    "    answer.append(arr[-1])\n",
    "    return answer\n"
   ]
  },
  {
   "cell_type": "markdown",
   "metadata": {},
   "source": [
    "### 두 정수 사이의 합"
   ]
  },
  {
   "cell_type": "code",
   "execution_count": null,
   "metadata": {},
   "outputs": [],
   "source": [
    "# 1\n",
    "def solution(a, b):\n",
    "    start = min(a, b)\n",
    "    end = max(a, b)\n",
    "    answer = 0\n",
    "    if start == end:\n",
    "        return end\n",
    "    else:\n",
    "        i = 0\n",
    "        while i <= (end-start):\n",
    "            answer += start + i \n",
    "            i += 1\n",
    "    return answer\n",
    "\n",
    "\n",
    "# 2\n",
    "def solution(a, b):\n",
    "    st = min(a, b)\n",
    "    ed = max(a, b)\n",
    "    return sum(range(st, ed+1))"
   ]
  },
  {
   "cell_type": "markdown",
   "metadata": {},
   "source": [
    "### 완주하지 못한 선수"
   ]
  },
  {
   "cell_type": "code",
   "execution_count": 11,
   "metadata": {},
   "outputs": [
    {
     "data": {
      "text/plain": [
       "['mislav', 'stanko', 'mislav', 'ana']"
      ]
     },
     "execution_count": 11,
     "metadata": {},
     "output_type": "execute_result"
    }
   ],
   "source": [
    "def solution(part, comp):\n",
    "    part.sort()\n",
    "    comp.sort()    \n",
    "    for i in range(len(comp)):\n",
    "        if part[i] != comp[i]:\n",
    "            return part[i]\n",
    "    return part[-1]"
   ]
  },
  {
   "cell_type": "markdown",
   "metadata": {},
   "source": [
    "### 없는 숫자 더하기"
   ]
  },
  {
   "cell_type": "code",
   "execution_count": null,
   "metadata": {},
   "outputs": [],
   "source": [
    "def solution(numbers):\n",
    "    result = 0 \n",
    "    for i in range(10):\n",
    "        if i not in numbers:\n",
    "            result += i\n",
    "    return result\n",
    "\n",
    "\n",
    "def solution(numbers):\n",
    "    return sum(range(10)) - sum(numbers)"
   ]
  },
  {
   "cell_type": "code",
   "execution_count": null,
   "metadata": {},
   "outputs": [],
   "source": []
  }
 ],
 "metadata": {
  "interpreter": {
   "hash": "9a957a1fea41707a244f264f295721eb09ec21d5be06b513cdb5f37b29d60cc5"
  },
  "kernelspec": {
   "display_name": "Python 3.9.2 64-bit ('geo': conda)",
   "name": "python3"
  },
  "language_info": {
   "codemirror_mode": {
    "name": "ipython",
    "version": 3
   },
   "file_extension": ".py",
   "mimetype": "text/x-python",
   "name": "python",
   "nbconvert_exporter": "python",
   "pygments_lexer": "ipython3",
   "version": "3.9.4"
  },
  "orig_nbformat": 4
 },
 "nbformat": 4,
 "nbformat_minor": 2
}
