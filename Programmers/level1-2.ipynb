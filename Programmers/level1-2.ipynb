{
 "cells": [
  {
   "cell_type": "markdown",
   "metadata": {},
   "source": [
    "### 달리기 경주\n",
    "\n",
    "얀에서는 매년 달리기 경주가 열립니다. 해설진들은 선수들이 자기 바로 앞의 선수를 추월할 때 추월한 선수의 이름을 부릅니다. 예를 들어 1등부터 3등까지 \"mumu\", \"soe\", \"poe\" 선수들이 순서대로 달리고 있을 때, 해설진이 \"soe\"선수를 불렀다면 2등인 \"soe\" 선수가 1등인 \"mumu\" 선수를 추월했다는 것입니다. 즉 \"soe\" 선수가 1등, \"mumu\" 선수가 2등으로 바뀝니다.\n",
    "\n",
    "선수들의 이름이 1등부터 현재 등수 순서대로 담긴 문자열 배열 players와 해설진이 부른 이름을 담은 문자열 배열 callings가 매개변수로 주어질 때, 경주가 끝났을 때 선수들의 이름을 1등부터 등수 순서대로 배열에 담아 return 하는 solution 함수를 완성해주세요.\n",
    "\n",
    "\n",
    "제한사항\n",
    "- 5 ≤ players의 길이 ≤ 50,000\n",
    "    - players[i]는 i번째 선수의 이름을 의미합니다.\n",
    "    - players의 원소들은 알파벳 소문자로만 이루어져 있습니다.\n",
    "    - players에는 중복된 값이 들어가 있지 않습니다.\n",
    "    - 3 ≤ players[i]의 길이 ≤ 10\n",
    "- 2 ≤ callings의 길이 ≤ 1,000,000\n",
    "    - callings는 players의 원소들로만 이루어져 있습니다.\n",
    "    - 경주 진행중 1등인 선수의 이름은 불리지 않습니다."
   ]
  },
  {
   "cell_type": "code",
   "execution_count": null,
   "metadata": {},
   "outputs": [],
   "source": [
    "# 시간초과\n",
    "def solution(players, callings):\n",
    "\n",
    "    for calls in callings:\n",
    "        idx = players.index(calls)\n",
    "        values = players.pop(idx)\n",
    "        players.insert(idx-1, values)\n",
    "\n",
    "    return players"
   ]
  },
  {
   "cell_type": "code",
   "execution_count": 18,
   "metadata": {},
   "outputs": [],
   "source": [
    "def solution(players, callings):\n",
    "    for calls in callings:\n",
    "        idx = players.index(calls)\n",
    "        players[idx-1], players[idx] = players[idx], players[idx-1]\n",
    "    return players "
   ]
  },
  {
   "cell_type": "code",
   "execution_count": null,
   "metadata": {},
   "outputs": [],
   "source": [
    "\n",
    "def solution(players, callings):\n",
    "    answers = dict({player: i for i, player in enumerate(players)})\n",
    "    for calls in callings:\n",
    "        idx = answers[calls]\n",
    "        answers[calls] -= 1\n",
    "        answers[players[idx-1]] += 1\n",
    "        players[idx-1], players[idx] = players[idx], players[idx-1]\n",
    "    return players \n",
    "    "
   ]
  },
  {
   "cell_type": "markdown",
   "metadata": {},
   "source": [
    "### 추억 점수\n",
    "사진들을 보며 추억에 젖어 있던 루는 사진별로 추억 점수를 매길려고 합니다. 사진 속에 나오는 인물의 그리움 점수를 모두 합산한 값이 해당 사진의 추억 점수가 됩니다. 예를 들어 사진 속 인물의 이름이 [\"may\", \"kein\", \"kain\"]이고 각 인물의 그리움 점수가 [5점, 10점, 1점]일 때 해당 사진의 추억 점수는 16(5 + 10 + 1)점이 됩니다. 다른 사진 속 인물의 이름이 [\"kali\", \"mari\", \"don\", \"tony\"]이고 [\"kali\", \"mari\", \"don\"]의 그리움 점수가 각각 [11점, 1점, 55점]]이고, \"tony\"는 그리움 점수가 없을 때, 이 사진의 추억 점수는 3명의 그리움 점수를 합한 67(11 + 1 + 55)점입니다.\n",
    "\n",
    "그리워하는 사람의 이름을 담은 문자열 배열 name, 각 사람별 그리움 점수를 담은 정수 배열 yearning, 각 사진에 찍힌 인물의 이름을 담은 이차원 문자열 배열 photo가 매개변수로 주어질 때, 사진들의 추억 점수를 photo에 주어진 순서대로 배열에 담아 return하는 solution 함수를 완성해주세요."
   ]
  },
  {
   "cell_type": "code",
   "execution_count": null,
   "metadata": {},
   "outputs": [],
   "source": [
    "def solution(name, yearning, photo):\n",
    "    results = dict(zip(name, yearning))\n",
    "    \n",
    "    answers = []\n",
    "    for p in photo:\n",
    "        values = [results[x] for x in p if x in results.keys()]\n",
    "        answers.append(sum(values))\n",
    "    return answers"
   ]
  },
  {
   "cell_type": "markdown",
   "metadata": {},
   "source": [
    "### 공원 산책"
   ]
  },
  {
   "cell_type": "code",
   "execution_count": null,
   "metadata": {},
   "outputs": [],
   "source": [
    "def solution(park, routes):\n",
    "    nrow, ncol = len(park)-1, len(park[0])-1\n",
    "    coord = []\n",
    "    for i in range(nrow+1):\n",
    "        rows = []\n",
    "        for j in range(ncol+1):\n",
    "            idx = park[i][j]\n",
    "            if idx == 'S':\n",
    "                row, col = i, j\n",
    "                rows.append(0)\n",
    "            elif idx == 'X':\n",
    "                rows.append(1)\n",
    "            else:\n",
    "                rows.append(0)\n",
    "        coord.append(rows)\n",
    "    \n",
    "    move_row = {'E':0, 'W':0, 'N':-1, 'S':1}\n",
    "    move_col = {'E':1, 'W':-1, 'N':0, 'S':0}\n",
    "    for route in routes:\n",
    "        error = 0\n",
    "        d, step = route.split()\n",
    "        \n",
    "        step = int(step) \n",
    "        \n",
    "        new_row = row + move_row[d] * step\n",
    "        new_col = col + move_col[d] * step\n",
    "\n",
    "        if (new_row < 0) or (new_row > nrow):\n",
    "            continue\n",
    "        \n",
    "        elif (new_col < 0) or (new_col > ncol):\n",
    "            continue \n",
    "            \n",
    "        elif row != new_row:\n",
    "            for r in range(1, step+1):\n",
    "                r_step = row + move_row[d]*r\n",
    "                if coord[r_step][col]:\n",
    "                    error += 1\n",
    "\n",
    "        elif col != new_col:\n",
    "            for c in range(1, step+1):\n",
    "                c_step = col + move_col[d]*c\n",
    "                if coord[row][c_step]:\n",
    "                    error += 1\n",
    "\n",
    "        if error == 0:\n",
    "            row = new_row\n",
    "            col = new_col\n",
    "\n",
    "        elif error > 0:\n",
    "            row = row \n",
    "            col = col\n",
    "\n",
    "    return [row, col]"
   ]
  },
  {
   "cell_type": "markdown",
   "metadata": {},
   "source": [
    "### 크기가 작은 부분문자열\n",
    "\n",
    "숫자로 이루어진 문자열 t와 p가 주어질 때, t에서 p와 길이가 같은 부분문자열 중에서, 이 부분문자열이 나타내는 수가 p가 나타내는 수보다 작거나 같은 것이 나오는 횟수를 return하는 함수 solution을 완성하세요.\n",
    "\n",
    "예를 들어, t=\"3141592\"이고 p=\"271\" 인 경우, t의 길이가 3인 부분 문자열은 314, 141, 415, 159, 592입니다. 이 문자열이 나타내는 수 중 271보다 작거나 같은 수는 141, 159 2개 입니다."
   ]
  },
  {
   "cell_type": "code",
   "execution_count": null,
   "metadata": {},
   "outputs": [],
   "source": [
    "def solution(t, p):\n",
    "    answer = 0\n",
    "    l1 = len(list(t))\n",
    "    l2 = len(list(p))\n",
    "    \n",
    "    p = int(p)\n",
    "    for idx in range(0, l1-l2+1):\n",
    "        if p >= int(t[idx:idx+l2]):\n",
    "            answer += 1\n",
    "    return answer"
   ]
  },
  {
   "cell_type": "markdown",
   "metadata": {},
   "source": [
    "### 개인정보 수집 유효 기간"
   ]
  },
  {
   "cell_type": "code",
   "execution_count": null,
   "metadata": {},
   "outputs": [],
   "source": [
    "def date2day(t):\n",
    "    year, month, day = map(lambda x: int(x), t.split('.'))\n",
    "    return year * 12 * 28 + month * 28 + day \n",
    "    \n",
    "def solution(today, terms, privacies):\n",
    "    terms = dict(map(lambda x: x.split(), terms))\n",
    "    today = date2day(today)\n",
    "    \n",
    "    answer = []\n",
    "    for i, p in enumerate(privacies):\n",
    "        date, types = p.split()\n",
    "        date = date2day(date) + int(terms[types]) * 28\n",
    "\n",
    "        if today >= date:\n",
    "            answer.append(i+1)\n",
    "            \n",
    "    return answer"
   ]
  },
  {
   "cell_type": "markdown",
   "metadata": {},
   "source": [
    "### 성격 유형 검사하기\n"
   ]
  },
  {
   "cell_type": "code",
   "execution_count": null,
   "metadata": {},
   "outputs": [],
   "source": [
    "def solution(survey, choices):\n",
    "    types = ['R', 'T', 'C', 'F', 'J', 'M', 'A', 'N']\n",
    "    answers = [0] * len(types)\n",
    "    results = {t:i for i, t in enumerate(types)}\n",
    "\n",
    "    for s, value in zip(survey, choices):\n",
    "        a, b = s\n",
    "        if value >= 4:\n",
    "            answers[results[b]] += value - 4\n",
    "        \n",
    "        else:\n",
    "            answers[results[a]] += 4 - value\n",
    "    \n",
    "    outs = ''\n",
    "    for idx in range(0, len(answers), 2):\n",
    "        if answers[idx] >= answers[idx+1]:\n",
    "            outs += types[idx]\n",
    "        else:\n",
    "            outs += types[idx+1]\n",
    "\n",
    "    return outs"
   ]
  },
  {
   "cell_type": "markdown",
   "metadata": {},
   "source": [
    "### 키패드 누르기\n"
   ]
  },
  {
   "cell_type": "code",
   "execution_count": 3,
   "metadata": {},
   "outputs": [],
   "source": [
    "def num2key(num):\n",
    "    if num == 0:\n",
    "        return (3, 1)\n",
    "\n",
    "    col = num % 3 - 1 if num % 3 != 0 else 2\n",
    "    row = num // 3 if num % 3 != 0 else num // 3 - 1\n",
    "    return row, col\n",
    "    \n",
    "def solution(numbers, hand):\n",
    "    l_row, l_col = 3, 0\n",
    "    r_row, r_col = 3, 2\n",
    "    answers = ''\n",
    "    \n",
    "    for num in numbers:\n",
    "        row, col = num2key(num)\n",
    "        \n",
    "        if num in [1, 4, 7]:\n",
    "            answers += 'L'\n",
    "            l_row = row\n",
    "            l_col = col\n",
    "\n",
    "        elif num in [3, 6, 9]:\n",
    "            answers += 'R'\n",
    "            r_row = row\n",
    "            r_col = col\n",
    "            \n",
    "        else:\n",
    "            # if num in [2, 5, 8, 0], then calculate distance about the left or right hand\n",
    "            l_v = abs(l_row - row) + abs(l_col - col)\n",
    "            r_v = abs(r_row - row) + abs(r_col - col)\n",
    "            \n",
    "            if r_v > l_v:\n",
    "                answers += 'L'\n",
    "                l_row = row \n",
    "                l_col = col\n",
    "            \n",
    "            elif r_v < l_v:\n",
    "                answers += 'R'\n",
    "                r_row = row \n",
    "                r_col = col \n",
    "\n",
    "            else:\n",
    "                if hand == 'right':\n",
    "                    r_row = row\n",
    "                    r_col = col\n",
    "                    answers += 'R'\n",
    "\n",
    "                else:\n",
    "                    l_row = row\n",
    "                    l_col = col \n",
    "                    answers += 'L'\n",
    "        \n",
    "    return answers"
   ]
  },
  {
   "cell_type": "markdown",
   "metadata": {},
   "source": [
    "## 크레인 인형뽑기 게임"
   ]
  },
  {
   "cell_type": "code",
   "execution_count": null,
   "metadata": {},
   "outputs": [],
   "source": [
    "def solution(board, moves):\n",
    "    nrow, ncol = len(board), len(board[0])\n",
    "    answer = []\n",
    "    counts = 0\n",
    "    for m in moves:\n",
    "        for i in range(nrow):\n",
    "            if board[i][m-1]:\n",
    "                answer.append(board[i][m-1])\n",
    "                board[i][m-1] = 0\n",
    "                break\n",
    "        \n",
    "        if len(answer) > 1:\n",
    "            if answer[-2] == answer[-1]:\n",
    "                answer = answer[:-2]\n",
    "                counts += 2\n",
    "    return counts"
   ]
  },
  {
   "cell_type": "markdown",
   "metadata": {},
   "source": [
    "### 신고 결과 받기"
   ]
  },
  {
   "cell_type": "code",
   "execution_count": null,
   "metadata": {},
   "outputs": [],
   "source": [
    "def solution(id_list, report, k):\n",
    "    froud_by = dict({key:[] for key in id_list})\n",
    "    counts = dict({key:0 for key in id_list})\n",
    "    idx_info = dict({key:i for i, key in enumerate(id_list)})\n",
    "    answers = [0] * len(id_list)\n",
    "    \n",
    "    for val in report:\n",
    "        src, dst = val.split()\n",
    "        if dst in froud_by[src]:\n",
    "            continue\n",
    "        counts[dst] += 1\n",
    "        froud_by[src].append(dst)\n",
    "    \n",
    "    for f, num in counts.items():\n",
    "        if num >= k:\n",
    "            for u_id, f_id in froud_by.items():\n",
    "                if f in f_id:\n",
    "                    answers[idx_info[u_id]] += 1\n",
    "\n",
    "    return answers"
   ]
  },
  {
   "cell_type": "markdown",
   "metadata": {},
   "source": [
    "### 실패율"
   ]
  },
  {
   "cell_type": "code",
   "execution_count": null,
   "metadata": {},
   "outputs": [],
   "source": [
    "def solution(N, stages):\n",
    "    results = {}\n",
    "    length = len(stages)\n",
    "    for n in range(1, N+1):\n",
    "        if length != 0 :\n",
    "            count = stages.count(n)\n",
    "            results[n] = count / length\n",
    "            length -= count\n",
    "        else:\n",
    "            results[n] = 0 \n",
    "        \n",
    "    return sorted(results, key=lambda x: results[x], reverse=True)"
   ]
  },
  {
   "cell_type": "markdown",
   "metadata": {},
   "source": [
    "### 최소직사각형"
   ]
  },
  {
   "cell_type": "code",
   "execution_count": null,
   "metadata": {},
   "outputs": [],
   "source": [
    "def solution(sizes):\n",
    "    h, w = 0,0 \n",
    "    \n",
    "    for size in sizes:\n",
    "        max_s = max(size)\n",
    "        min_s = min(size)\n",
    "        if max_s >= h:\n",
    "            h = max_s\n",
    "        \n",
    "        if min_s >= w:\n",
    "            w = min_s\n",
    "    return h * w"
   ]
  },
  {
   "cell_type": "markdown",
   "metadata": {},
   "source": [
    "### 나머지가 1이 되는 수 찾기"
   ]
  },
  {
   "cell_type": "code",
   "execution_count": null,
   "metadata": {},
   "outputs": [],
   "source": [
    "def solution(n):\n",
    "    answer = 0\n",
    "    for i in range(2, n+1):\n",
    "        answer = n % i\n",
    "        if answer == 1:\n",
    "            break \n",
    "    return i"
   ]
  },
  {
   "cell_type": "code",
   "execution_count": null,
   "metadata": {},
   "outputs": [],
   "source": []
  }
 ],
 "metadata": {
  "kernelspec": {
   "display_name": "Python 3",
   "language": "python",
   "name": "python3"
  },
  "language_info": {
   "codemirror_mode": {
    "name": "ipython",
    "version": 3
   },
   "file_extension": ".py",
   "mimetype": "text/x-python",
   "name": "python",
   "nbconvert_exporter": "python",
   "pygments_lexer": "ipython3",
   "version": "3.8.5"
  },
  "orig_nbformat": 4
 },
 "nbformat": 4,
 "nbformat_minor": 2
}
