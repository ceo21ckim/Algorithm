{
 "cells": [
  {
   "cell_type": "markdown",
   "metadata": {},
   "source": [
    "### 달리기 경주"
   ]
  },
  {
   "cell_type": "code",
   "execution_count": null,
   "metadata": {},
   "outputs": [],
   "source": [
    "# 시간초과\n",
    "def solution(players, callings):\n",
    "\n",
    "    for calls in callings:\n",
    "        idx = players.index(calls)\n",
    "        values = players.pop(idx)\n",
    "        players.insert(idx-1, values)\n",
    "\n",
    "    return players"
   ]
  },
  {
   "cell_type": "code",
   "execution_count": 18,
   "metadata": {},
   "outputs": [],
   "source": [
    "def solution(players, callings):\n",
    "    for calls in callings:\n",
    "        idx = players.index(calls)\n",
    "        players[idx-1], players[idx] = players[idx], players[idx-1]\n",
    "    return players "
   ]
  },
  {
   "cell_type": "code",
   "execution_count": null,
   "metadata": {},
   "outputs": [],
   "source": [
    "\n",
    "def solution(players, callings):\n",
    "    answers = dict({player: i for i, player in enumerate(players)})\n",
    "    for calls in callings:\n",
    "        idx = answers[calls]\n",
    "        answers[calls] -= 1\n",
    "        answers[players[idx-1]] += 1\n",
    "        players[idx-1], players[idx] = players[idx], players[idx-1]\n",
    "    return players \n",
    "    "
   ]
  },
  {
   "cell_type": "markdown",
   "metadata": {},
   "source": [
    "### 추억 점수"
   ]
  },
  {
   "cell_type": "code",
   "execution_count": null,
   "metadata": {},
   "outputs": [],
   "source": [
    "def solution(name, yearning, photo):\n",
    "    results = dict(zip(name, yearning))\n",
    "    \n",
    "    answers = []\n",
    "    for p in photo:\n",
    "        values = [results[x] for x in p if x in results.keys()]\n",
    "        answers.append(sum(values))\n",
    "    return answers"
   ]
  },
  {
   "cell_type": "markdown",
   "metadata": {},
   "source": [
    "### 공원 산책"
   ]
  },
  {
   "cell_type": "code",
   "execution_count": null,
   "metadata": {},
   "outputs": [],
   "source": [
    "def solution(park, routes):\n",
    "    nrow, ncol = len(park)-1, len(park[0])-1\n",
    "    coord = []\n",
    "    for i in range(nrow+1):\n",
    "        rows = []\n",
    "        for j in range(ncol+1):\n",
    "            idx = park[i][j]\n",
    "            if idx == 'S':\n",
    "                row, col = i, j\n",
    "                rows.append(0)\n",
    "            elif idx == 'X':\n",
    "                rows.append(1)\n",
    "            else:\n",
    "                rows.append(0)\n",
    "        coord.append(rows)\n",
    "    \n",
    "    move_row = {'E':0, 'W':0, 'N':-1, 'S':1}\n",
    "    move_col = {'E':1, 'W':-1, 'N':0, 'S':0}\n",
    "    for route in routes:\n",
    "        error = 0\n",
    "        d, step = route.split()\n",
    "        \n",
    "        step = int(step) \n",
    "        \n",
    "        new_row = row + move_row[d] * step\n",
    "        new_col = col + move_col[d] * step\n",
    "\n",
    "        if (new_row < 0) or (new_row > nrow):\n",
    "            continue\n",
    "        \n",
    "        elif (new_col < 0) or (new_col > ncol):\n",
    "            continue \n",
    "            \n",
    "        elif row != new_row:\n",
    "            for r in range(1, step+1):\n",
    "                r_step = row + move_row[d]*r\n",
    "                if coord[r_step][col]:\n",
    "                    error += 1\n",
    "\n",
    "        elif col != new_col:\n",
    "            for c in range(1, step+1):\n",
    "                c_step = col + move_col[d]*c\n",
    "                if coord[row][c_step]:\n",
    "                    error += 1\n",
    "\n",
    "        if error == 0:\n",
    "            row = new_row\n",
    "            col = new_col\n",
    "\n",
    "        elif error > 0:\n",
    "            row = row \n",
    "            col = col\n",
    "\n",
    "    return [row, col]"
   ]
  },
  {
   "cell_type": "markdown",
   "metadata": {},
   "source": [
    "### 크기가 작은 부분문자열"
   ]
  },
  {
   "cell_type": "code",
   "execution_count": null,
   "metadata": {},
   "outputs": [],
   "source": [
    "def solution(t, p):\n",
    "    answer = 0\n",
    "    l1 = len(list(t))\n",
    "    l2 = len(list(p))\n",
    "    \n",
    "    p = int(p)\n",
    "    for idx in range(0, l1-l2+1):\n",
    "        if p >= int(t[idx:idx+l2]):\n",
    "            answer += 1\n",
    "    return answer"
   ]
  },
  {
   "cell_type": "markdown",
   "metadata": {},
   "source": [
    "### 개인정보 수집 유효 기간"
   ]
  },
  {
   "cell_type": "code",
   "execution_count": null,
   "metadata": {},
   "outputs": [],
   "source": [
    "def date2day(t):\n",
    "    year, month, day = map(lambda x: int(x), t.split('.'))\n",
    "    return year * 12 * 28 + month * 28 + day \n",
    "    \n",
    "def solution(today, terms, privacies):\n",
    "    terms = dict(map(lambda x: x.split(), terms))\n",
    "    today = date2day(today)\n",
    "    \n",
    "    answer = []\n",
    "    for i, p in enumerate(privacies):\n",
    "        date, types = p.split()\n",
    "        date = date2day(date) + int(terms[types]) * 28\n",
    "\n",
    "        if today >= date:\n",
    "            answer.append(i+1)\n",
    "            \n",
    "    return answer"
   ]
  },
  {
   "cell_type": "markdown",
   "metadata": {},
   "source": [
    "### 성격 유형 검사하기\n"
   ]
  },
  {
   "cell_type": "code",
   "execution_count": null,
   "metadata": {},
   "outputs": [],
   "source": [
    "def solution(survey, choices):\n",
    "    types = ['R', 'T', 'C', 'F', 'J', 'M', 'A', 'N']\n",
    "    answers = [0] * len(types)\n",
    "    results = {t:i for i, t in enumerate(types)}\n",
    "\n",
    "    for s, value in zip(survey, choices):\n",
    "        a, b = s\n",
    "        if value >= 4:\n",
    "            answers[results[b]] += value - 4\n",
    "        \n",
    "        else:\n",
    "            answers[results[a]] += 4 - value\n",
    "    \n",
    "    outs = ''\n",
    "    for idx in range(0, len(answers), 2):\n",
    "        if answers[idx] >= answers[idx+1]:\n",
    "            outs += types[idx]\n",
    "        else:\n",
    "            outs += types[idx+1]\n",
    "\n",
    "    return outs"
   ]
  },
  {
   "cell_type": "markdown",
   "metadata": {},
   "source": [
    "### 키패드 누르기\n"
   ]
  },
  {
   "cell_type": "code",
   "execution_count": 3,
   "metadata": {},
   "outputs": [],
   "source": [
    "def num2key(num):\n",
    "    if num == 0:\n",
    "        return (3, 1)\n",
    "\n",
    "    col = num % 3 - 1 if num % 3 != 0 else 2\n",
    "    row = num // 3 if num % 3 != 0 else num // 3 - 1\n",
    "    return row, col\n",
    "    \n",
    "def solution(numbers, hand):\n",
    "    l_row, l_col = 3, 0\n",
    "    r_row, r_col = 3, 2\n",
    "    answers = ''\n",
    "    \n",
    "    for num in numbers:\n",
    "        row, col = num2key(num)\n",
    "        \n",
    "        if num in [1, 4, 7]:\n",
    "            answers += 'L'\n",
    "            l_row = row\n",
    "            l_col = col\n",
    "\n",
    "        elif num in [3, 6, 9]:\n",
    "            answers += 'R'\n",
    "            r_row = row\n",
    "            r_col = col\n",
    "            \n",
    "        else:\n",
    "            # if num in [2, 5, 8, 0], then calculate distance about the left or right hand\n",
    "            l_v = abs(l_row - row) + abs(l_col - col)\n",
    "            r_v = abs(r_row - row) + abs(r_col - col)\n",
    "            \n",
    "            if r_v > l_v:\n",
    "                answers += 'L'\n",
    "                l_row = row \n",
    "                l_col = col\n",
    "            \n",
    "            elif r_v < l_v:\n",
    "                answers += 'R'\n",
    "                r_row = row \n",
    "                r_col = col \n",
    "\n",
    "            else:\n",
    "                if hand == 'right':\n",
    "                    r_row = row\n",
    "                    r_col = col\n",
    "                    answers += 'R'\n",
    "\n",
    "                else:\n",
    "                    l_row = row\n",
    "                    l_col = col \n",
    "                    answers += 'L'\n",
    "        \n",
    "    return answers"
   ]
  },
  {
   "cell_type": "markdown",
   "metadata": {},
   "source": [
    "## 크레인 인형뽑기 게임"
   ]
  },
  {
   "cell_type": "code",
   "execution_count": null,
   "metadata": {},
   "outputs": [],
   "source": [
    "def solution(board, moves):\n",
    "    nrow, ncol = len(board), len(board[0])\n",
    "    answer = []\n",
    "    counts = 0\n",
    "    for m in moves:\n",
    "        for i in range(nrow):\n",
    "            if board[i][m-1]:\n",
    "                answer.append(board[i][m-1])\n",
    "                board[i][m-1] = 0\n",
    "                break\n",
    "        \n",
    "        if len(answer) > 1:\n",
    "            if answer[-2] == answer[-1]:\n",
    "                answer = answer[:-2]\n",
    "                counts += 2\n",
    "    return counts"
   ]
  },
  {
   "cell_type": "markdown",
   "metadata": {},
   "source": [
    "### 신고 결과 받기"
   ]
  },
  {
   "cell_type": "code",
   "execution_count": null,
   "metadata": {},
   "outputs": [],
   "source": [
    "def solution(id_list, report, k):\n",
    "    froud_by = dict({key:[] for key in id_list})\n",
    "    counts = dict({key:0 for key in id_list})\n",
    "    idx_info = dict({key:i for i, key in enumerate(id_list)})\n",
    "    answers = [0] * len(id_list)\n",
    "    \n",
    "    for val in report:\n",
    "        src, dst = val.split()\n",
    "        if dst in froud_by[src]:\n",
    "            continue\n",
    "        counts[dst] += 1\n",
    "        froud_by[src].append(dst)\n",
    "    \n",
    "    for f, num in counts.items():\n",
    "        if num >= k:\n",
    "            for u_id, f_id in froud_by.items():\n",
    "                if f in f_id:\n",
    "                    answers[idx_info[u_id]] += 1\n",
    "\n",
    "    return answers"
   ]
  },
  {
   "cell_type": "markdown",
   "metadata": {},
   "source": [
    "### 실패율"
   ]
  },
  {
   "cell_type": "code",
   "execution_count": null,
   "metadata": {},
   "outputs": [],
   "source": [
    "def solution(N, stages):\n",
    "    results = {}\n",
    "    length = len(stages)\n",
    "    for n in range(1, N+1):\n",
    "        if length != 0 :\n",
    "            count = stages.count(n)\n",
    "            results[n] = count / length\n",
    "            length -= count\n",
    "        else:\n",
    "            results[n] = 0 \n",
    "        \n",
    "    return sorted(results, key=lambda x: results[x], reverse=True)"
   ]
  },
  {
   "cell_type": "markdown",
   "metadata": {},
   "source": [
    "### 최소직사각형"
   ]
  },
  {
   "cell_type": "code",
   "execution_count": null,
   "metadata": {},
   "outputs": [],
   "source": [
    "def solution(sizes):\n",
    "    h, w = 0,0 \n",
    "    \n",
    "    for size in sizes:\n",
    "        max_s = max(size)\n",
    "        min_s = min(size)\n",
    "        if max_s >= h:\n",
    "            h = max_s\n",
    "        \n",
    "        if min_s >= w:\n",
    "            w = min_s\n",
    "    return h * w"
   ]
  },
  {
   "cell_type": "markdown",
   "metadata": {},
   "source": [
    "### 나머지가 1이 되는 수 찾기"
   ]
  },
  {
   "cell_type": "code",
   "execution_count": null,
   "metadata": {},
   "outputs": [],
   "source": [
    "def solution(n):\n",
    "    answer = 0\n",
    "    for i in range(2, n+1):\n",
    "        answer = n % i\n",
    "        if answer == 1:\n",
    "            break \n",
    "    return i"
   ]
  },
  {
   "cell_type": "markdown",
   "metadata": {},
   "source": [
    "### 둘만의 암호"
   ]
  },
  {
   "cell_type": "code",
   "execution_count": 1,
   "metadata": {},
   "outputs": [],
   "source": [
    "def solution(s, skip, index):\n",
    "    answer = ''\n",
    "    alphabet = 'abcdefghijklmnopqrstuvwxyz'\n",
    "    \n",
    "    for sk in skip:\n",
    "        alphabet = alphabet.replace(sk, '')\n",
    "    \n",
    "    for a in s:\n",
    "        idx = (alphabet.index(a) + index ) % len(alphabet)\n",
    "        answer += alphabet[idx]\n",
    "    \n",
    "    return answer"
   ]
  },
  {
   "cell_type": "markdown",
   "metadata": {},
   "source": [
    "### 푸드 파이트 대회"
   ]
  },
  {
   "cell_type": "code",
   "execution_count": null,
   "metadata": {},
   "outputs": [],
   "source": [
    "def solution(food):\n",
    "    answer = ''\n",
    "    for n, f in enumerate(food[1:]):\n",
    "        if f <= 1:\n",
    "            continue\n",
    "        answer += str(n+1) * (f//2)\n",
    "    answer += '0' + answer[::-1]\n",
    "    \n",
    "    return answer"
   ]
  },
  {
   "cell_type": "markdown",
   "metadata": {},
   "source": [
    "### 3진법 뒤집기"
   ]
  },
  {
   "cell_type": "code",
   "execution_count": null,
   "metadata": {},
   "outputs": [],
   "source": [
    "def solution(n):\n",
    "    answer = ''\n",
    "    while n > 0:\n",
    "        n, rest = divmod(n, 3)\n",
    "        answer += str(rest)\n",
    "    return int(answer, 3)"
   ]
  },
  {
   "cell_type": "markdown",
   "metadata": {},
   "source": [
    "### 문자열 내 마음대로 정렬하기"
   ]
  },
  {
   "cell_type": "code",
   "execution_count": null,
   "metadata": {},
   "outputs": [],
   "source": [
    "def solution(strings, n):\n",
    "    return sorted(strings, key=lambda x: (x[n], x))"
   ]
  },
  {
   "cell_type": "markdown",
   "metadata": {},
   "source": [
    "### 가장 가까운 같은 글자"
   ]
  },
  {
   "cell_type": "code",
   "execution_count": null,
   "metadata": {},
   "outputs": [],
   "source": [
    "def solution(s):\n",
    "    answer = []\n",
    "    for i in range(len(s)):\n",
    "        prev = s[:i]\n",
    "        if s[i] in prev:\n",
    "            answer.append(prev[::-1].index(s[i]) + 1)\n",
    "        else:\n",
    "            answer.append(-1)\n",
    "    return answer"
   ]
  },
  {
   "cell_type": "code",
   "execution_count": null,
   "metadata": {},
   "outputs": [],
   "source": []
  },
  {
   "cell_type": "code",
   "execution_count": null,
   "metadata": {},
   "outputs": [],
   "source": []
  }
 ],
 "metadata": {
  "kernelspec": {
   "display_name": "Python 3",
   "language": "python",
   "name": "python3"
  },
  "language_info": {
   "codemirror_mode": {
    "name": "ipython",
    "version": 3
   },
   "file_extension": ".py",
   "mimetype": "text/x-python",
   "name": "python",
   "nbconvert_exporter": "python",
   "pygments_lexer": "ipython3",
   "version": "3.8.5"
  },
  "orig_nbformat": 4
 },
 "nbformat": 4,
 "nbformat_minor": 2
}
